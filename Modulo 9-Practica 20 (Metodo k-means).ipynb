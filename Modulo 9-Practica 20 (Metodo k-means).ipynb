{
 "cells": [
  {
   "cell_type": "markdown",
   "metadata": {},
   "source": [
    "# Metodo K-Means"
   ]
  },
  {
   "cell_type": "code",
   "execution_count": 2,
   "metadata": {},
   "outputs": [],
   "source": [
    "import numpy as np"
   ]
  },
  {
   "cell_type": "markdown",
   "metadata": {},
   "source": [
    "### Generamos Datos"
   ]
  },
  {
   "cell_type": "code",
   "execution_count": 3,
   "metadata": {
    "scrolled": true
   },
   "outputs": [
    {
     "data": {
      "text/plain": [
       "array([[0.19050508, 0.90139881, 0.94117678],\n",
       "       [0.51915442, 0.66157057, 0.68156419],\n",
       "       [0.28392383, 0.38503637, 0.09937653],\n",
       "       [0.20606403, 0.57080739, 0.81398429],\n",
       "       [0.83764254, 0.55918775, 0.25934527],\n",
       "       [0.95610391, 0.4149112 , 0.91971545],\n",
       "       [0.73850166, 0.81775754, 0.82196685],\n",
       "       [0.62730941, 0.98922111, 0.60371479],\n",
       "       [0.04105036, 0.20204215, 0.41351859],\n",
       "       [0.1188208 , 0.8747862 , 0.93792254],\n",
       "       [0.95865648, 0.44316393, 0.26154804],\n",
       "       [0.79102759, 0.2470063 , 0.42712672],\n",
       "       [0.94133215, 0.9348285 , 0.63740727],\n",
       "       [0.73233399, 0.80287317, 0.30761651],\n",
       "       [0.83572419, 0.0561044 , 0.71858901],\n",
       "       [0.14403431, 0.76291369, 0.98453283],\n",
       "       [0.99814899, 0.523527  , 0.35874647],\n",
       "       [0.71697502, 0.51917264, 0.83709073],\n",
       "       [0.27790543, 0.71612826, 0.18213455],\n",
       "       [0.37007334, 0.7070518 , 0.39339978],\n",
       "       [0.51464422, 0.63448191, 0.4851268 ],\n",
       "       [0.40266471, 0.25058962, 0.16946002],\n",
       "       [0.96070708, 0.08000201, 0.50381828],\n",
       "       [0.63551696, 0.82160216, 0.48668542],\n",
       "       [0.55834879, 0.5518237 , 0.88425279],\n",
       "       [0.23337141, 0.39982555, 0.67616165],\n",
       "       [0.37571183, 0.28021197, 0.09982406],\n",
       "       [0.20010337, 0.22554572, 0.23090033],\n",
       "       [0.1819234 , 0.96215752, 0.84359467],\n",
       "       [0.22836135, 0.8848206 , 0.45126875]])"
      ]
     },
     "execution_count": 3,
     "metadata": {},
     "output_type": "execute_result"
    }
   ],
   "source": [
    "data=np.random.random(90).reshape(30,3) #reshape(30 datos, 3 columnas)\n",
    "data"
   ]
  },
  {
   "cell_type": "markdown",
   "metadata": {},
   "source": [
    "### Creamos centroides de los clusters"
   ]
  },
  {
   "cell_type": "code",
   "execution_count": 5,
   "metadata": {
    "scrolled": true
   },
   "outputs": [
    {
     "data": {
      "text/plain": [
       "array([[0.27790543, 0.71612826, 0.18213455],\n",
       "       [0.23337141, 0.39982555, 0.67616165]])"
      ]
     },
     "execution_count": 5,
     "metadata": {},
     "output_type": "execute_result"
    }
   ],
   "source": [
    "centroide_1=np.random.choice(range(len(data)))\n",
    "centroide_2=np.random.choice(range(len(data)))\n",
    "clust_centers=np.vstack((data[centroide_1],data[centroide_2]))\n",
    "clust_centers"
   ]
  },
  {
   "cell_type": "markdown",
   "metadata": {},
   "source": [
    "### Generamos clusters"
   ]
  },
  {
   "cell_type": "code",
   "execution_count": 6,
   "metadata": {},
   "outputs": [],
   "source": [
    "from scipy.cluster.vq import vq"
   ]
  },
  {
   "cell_type": "code",
   "execution_count": 15,
   "metadata": {},
   "outputs": [
    {
     "data": {
      "text/plain": [
       "(array([1, 1, 0, 1, 0, 1, 1, 0, 1, 1, 0, 1, 0, 0, 1, 1, 0, 1, 0, 0, 0, 0,\n",
       "        1, 0, 1, 1, 0, 1, 1, 0], dtype=int32),\n",
       " array([0.56889918, 0.38757138, 0.34133114, 0.22130424, 0.5864277 ,\n",
       "        0.76281603, 0.67162704, 0.61187641, 0.38090292, 0.55428172,\n",
       "        0.73772489, 0.62956535, 0.83380936, 0.47934926, 0.69481881,\n",
       "        0.48467195, 0.76618392, 0.52346379, 0.        , 0.23067358,\n",
       "        0.39308482, 0.4821325 , 0.81302307, 0.48141664, 0.41474771,\n",
       "        0.        , 0.45427317, 0.47930977, 0.58898044, 0.32147308]))"
      ]
     },
     "execution_count": 15,
     "metadata": {},
     "output_type": "execute_result"
    }
   ],
   "source": [
    "clusters=vq(data,clust_centers)\n",
    "clusters[0] #array que dictaminna a que cluster pertenece cada dato\n",
    "clusters[1] #distancias al varicentro del cluster\n",
    "clusters"
   ]
  },
  {
   "cell_type": "code",
   "execution_count": 16,
   "metadata": {},
   "outputs": [],
   "source": [
    "from scipy.cluster.vq import kmeans"
   ]
  },
  {
   "cell_type": "code",
   "execution_count": 23,
   "metadata": {},
   "outputs": [
    {
     "data": {
      "text/plain": [
       "(array([[0.47852079, 0.73400022, 0.70595456],\n",
       "        [0.5802722 , 0.33071212, 0.31036566]]), 0.38309698932158354)"
      ]
     },
     "execution_count": 23,
     "metadata": {},
     "output_type": "execute_result"
    }
   ],
   "source": [
    "clusters_2=kmeans(data,2)\n",
    "clusters_2"
   ]
  }
 ],
 "metadata": {
  "kernelspec": {
   "display_name": "Python 3",
   "language": "python",
   "name": "python3"
  },
  "language_info": {
   "codemirror_mode": {
    "name": "ipython",
    "version": 3
   },
   "file_extension": ".py",
   "mimetype": "text/x-python",
   "name": "python",
   "nbconvert_exporter": "python",
   "pygments_lexer": "ipython3",
   "version": "3.7.0"
  }
 },
 "nbformat": 4,
 "nbformat_minor": 2
}
