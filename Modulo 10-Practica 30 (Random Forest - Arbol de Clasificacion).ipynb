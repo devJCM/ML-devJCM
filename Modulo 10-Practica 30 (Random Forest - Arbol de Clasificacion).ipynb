{
 "cells": [
  {
   "cell_type": "markdown",
   "metadata": {},
   "source": [
    "## Random Forest para Arboles de Clasificación"
   ]
  },
  {
   "cell_type": "code",
   "execution_count": 2,
   "metadata": {},
   "outputs": [],
   "source": [
    "import pandas as pd\n",
    "import numpy as np\n",
    "import matplotlib.pyplot as plt\n",
    "from sklearn.tree import DecisionTreeClassifier"
   ]
  },
  {
   "cell_type": "code",
   "execution_count": 3,
   "metadata": {},
   "outputs": [
    {
     "data": {
      "text/html": [
       "<div>\n",
       "<style scoped>\n",
       "    .dataframe tbody tr th:only-of-type {\n",
       "        vertical-align: middle;\n",
       "    }\n",
       "\n",
       "    .dataframe tbody tr th {\n",
       "        vertical-align: top;\n",
       "    }\n",
       "\n",
       "    .dataframe thead th {\n",
       "        text-align: right;\n",
       "    }\n",
       "</style>\n",
       "<table border=\"1\" class=\"dataframe\">\n",
       "  <thead>\n",
       "    <tr style=\"text-align: right;\">\n",
       "      <th></th>\n",
       "      <th>Sepal.Length</th>\n",
       "      <th>Sepal.Width</th>\n",
       "      <th>Petal.Length</th>\n",
       "      <th>Petal.Width</th>\n",
       "      <th>Species</th>\n",
       "    </tr>\n",
       "  </thead>\n",
       "  <tbody>\n",
       "    <tr>\n",
       "      <th>0</th>\n",
       "      <td>5.1</td>\n",
       "      <td>3.5</td>\n",
       "      <td>1.4</td>\n",
       "      <td>0.2</td>\n",
       "      <td>setosa</td>\n",
       "    </tr>\n",
       "    <tr>\n",
       "      <th>1</th>\n",
       "      <td>4.9</td>\n",
       "      <td>3.0</td>\n",
       "      <td>1.4</td>\n",
       "      <td>0.2</td>\n",
       "      <td>setosa</td>\n",
       "    </tr>\n",
       "    <tr>\n",
       "      <th>2</th>\n",
       "      <td>4.7</td>\n",
       "      <td>3.2</td>\n",
       "      <td>1.3</td>\n",
       "      <td>0.2</td>\n",
       "      <td>setosa</td>\n",
       "    </tr>\n",
       "    <tr>\n",
       "      <th>3</th>\n",
       "      <td>4.6</td>\n",
       "      <td>3.1</td>\n",
       "      <td>1.5</td>\n",
       "      <td>0.2</td>\n",
       "      <td>setosa</td>\n",
       "    </tr>\n",
       "    <tr>\n",
       "      <th>4</th>\n",
       "      <td>5.0</td>\n",
       "      <td>3.6</td>\n",
       "      <td>1.4</td>\n",
       "      <td>0.2</td>\n",
       "      <td>setosa</td>\n",
       "    </tr>\n",
       "  </tbody>\n",
       "</table>\n",
       "</div>"
      ],
      "text/plain": [
       "   Sepal.Length  Sepal.Width  Petal.Length  Petal.Width Species\n",
       "0           5.1          3.5           1.4          0.2  setosa\n",
       "1           4.9          3.0           1.4          0.2  setosa\n",
       "2           4.7          3.2           1.3          0.2  setosa\n",
       "3           4.6          3.1           1.5          0.2  setosa\n",
       "4           5.0          3.6           1.4          0.2  setosa"
      ]
     },
     "execution_count": 3,
     "metadata": {},
     "output_type": "execute_result"
    }
   ],
   "source": [
    "dataset=pd.read_csv('../python-ml-course/datasets/iris/iris.csv')\n",
    "dataset.head()"
   ]
  },
  {
   "cell_type": "code",
   "execution_count": 4,
   "metadata": {},
   "outputs": [],
   "source": [
    "predictors=dataset.columns.values.tolist()[:4]\n",
    "target=dataset.columns.values.tolist()[4]"
   ]
  },
  {
   "cell_type": "code",
   "execution_count": 5,
   "metadata": {},
   "outputs": [],
   "source": [
    "#Se crean conjuntos de entrenamiento\n",
    "dataset['is_train']=np.random.uniform(0,1,len(dataset))<=.75 \n",
    "train,test=dataset[dataset['is_train']==True],dataset[dataset['is_train']==False]"
   ]
  },
  {
   "cell_type": "code",
   "execution_count": 6,
   "metadata": {},
   "outputs": [
    {
     "data": {
      "text/html": [
       "<div>\n",
       "<style scoped>\n",
       "    .dataframe tbody tr th:only-of-type {\n",
       "        vertical-align: middle;\n",
       "    }\n",
       "\n",
       "    .dataframe tbody tr th {\n",
       "        vertical-align: top;\n",
       "    }\n",
       "\n",
       "    .dataframe thead th {\n",
       "        text-align: right;\n",
       "    }\n",
       "</style>\n",
       "<table border=\"1\" class=\"dataframe\">\n",
       "  <thead>\n",
       "    <tr style=\"text-align: right;\">\n",
       "      <th>Valor Predicho</th>\n",
       "      <th>setosa</th>\n",
       "      <th>versicolor</th>\n",
       "      <th>virginica</th>\n",
       "    </tr>\n",
       "    <tr>\n",
       "      <th>Valor Real</th>\n",
       "      <th></th>\n",
       "      <th></th>\n",
       "      <th></th>\n",
       "    </tr>\n",
       "  </thead>\n",
       "  <tbody>\n",
       "    <tr>\n",
       "      <th>setosa</th>\n",
       "      <td>14</td>\n",
       "      <td>0</td>\n",
       "      <td>0</td>\n",
       "    </tr>\n",
       "    <tr>\n",
       "      <th>versicolor</th>\n",
       "      <td>0</td>\n",
       "      <td>13</td>\n",
       "      <td>2</td>\n",
       "    </tr>\n",
       "    <tr>\n",
       "      <th>virginica</th>\n",
       "      <td>0</td>\n",
       "      <td>3</td>\n",
       "      <td>8</td>\n",
       "    </tr>\n",
       "  </tbody>\n",
       "</table>\n",
       "</div>"
      ],
      "text/plain": [
       "Valor Predicho  setosa  versicolor  virginica\n",
       "Valor Real                                   \n",
       "setosa              14           0          0\n",
       "versicolor           0          13          2\n",
       "virginica            0           3          8"
      ]
     },
     "execution_count": 6,
     "metadata": {},
     "output_type": "execute_result"
    }
   ],
   "source": [
    "#Se crea modelo con el metodo de entropia y un minimo de 20 muestras por nodo, con la semilla 99 para el propio metodo\n",
    "model=DecisionTreeClassifier(criterion='entropy',min_samples_split=20,random_state=99) \n",
    "\n",
    "model.fit(train[predictors],train[target])#se entrena\n",
    "\n",
    "predicciones=model.predict(test[predictors])#se realizan predicicones\n",
    "\n",
    "pd.crosstab(test[target],predicciones,rownames=['Valor Real'],colnames=['Valor Predicho'])"
   ]
  },
  {
   "cell_type": "markdown",
   "metadata": {},
   "source": [
    "### Visualizacion de Arbol"
   ]
  },
  {
   "cell_type": "code",
   "execution_count": 7,
   "metadata": {},
   "outputs": [],
   "source": [
    "from sklearn.tree import export_graphviz"
   ]
  },
  {
   "cell_type": "code",
   "execution_count": 8,
   "metadata": {},
   "outputs": [],
   "source": [
    "with open('iris-dtree.dot','w') as dotfile: #creamos un archivo llamado iris-dtree.dot\n",
    "    export_graphviz(model,out_file=dotfile,feature_names=predictors) #seteamos los parametros(modelo,archivo,predictores)\n",
    "    dotfile.close()"
   ]
  },
  {
   "cell_type": "code",
   "execution_count": 9,
   "metadata": {},
   "outputs": [],
   "source": [
    "import os\n",
    "from graphviz import Source #(conda install python-graphviz)"
   ]
  },
  {
   "cell_type": "code",
   "execution_count": 10,
   "metadata": {},
   "outputs": [
    {
     "data": {
      "image/svg+xml": [
       "<?xml version=\"1.0\" encoding=\"UTF-8\" standalone=\"no\"?>\n",
       "<!DOCTYPE svg PUBLIC \"-//W3C//DTD SVG 1.1//EN\"\n",
       " \"http://www.w3.org/Graphics/SVG/1.1/DTD/svg11.dtd\">\n",
       "<!-- Generated by graphviz version 2.40.1 (20161225.0304)\n",
       " -->\n",
       "<!-- Title: Tree Pages: 1 -->\n",
       "<svg width=\"396pt\" height=\"373pt\"\n",
       " viewBox=\"0.00 0.00 396.00 373.00\" xmlns=\"http://www.w3.org/2000/svg\" xmlns:xlink=\"http://www.w3.org/1999/xlink\">\n",
       "<g id=\"graph0\" class=\"graph\" transform=\"scale(1 1) rotate(0) translate(4 369)\">\n",
       "<title>Tree</title>\n",
       "<polygon fill=\"#ffffff\" stroke=\"transparent\" points=\"-4,4 -4,-369 392,-369 392,4 -4,4\"/>\n",
       "<!-- 0 -->\n",
       "<g id=\"node1\" class=\"node\">\n",
       "<title>0</title>\n",
       "<polygon fill=\"none\" stroke=\"#000000\" points=\"190,-365 63,-365 63,-297 190,-297 190,-365\"/>\n",
       "<text text-anchor=\"middle\" x=\"126.5\" y=\"-349.8\" font-family=\"Times,serif\" font-size=\"14.00\" fill=\"#000000\">Petal.Length &lt;= 2.6</text>\n",
       "<text text-anchor=\"middle\" x=\"126.5\" y=\"-334.8\" font-family=\"Times,serif\" font-size=\"14.00\" fill=\"#000000\">entropy = 1.583</text>\n",
       "<text text-anchor=\"middle\" x=\"126.5\" y=\"-319.8\" font-family=\"Times,serif\" font-size=\"14.00\" fill=\"#000000\">samples = 110</text>\n",
       "<text text-anchor=\"middle\" x=\"126.5\" y=\"-304.8\" font-family=\"Times,serif\" font-size=\"14.00\" fill=\"#000000\">value = [36, 35, 39]</text>\n",
       "</g>\n",
       "<!-- 1 -->\n",
       "<g id=\"node2\" class=\"node\">\n",
       "<title>1</title>\n",
       "<polygon fill=\"none\" stroke=\"#000000\" points=\"113,-253.5 0,-253.5 0,-200.5 113,-200.5 113,-253.5\"/>\n",
       "<text text-anchor=\"middle\" x=\"56.5\" y=\"-238.3\" font-family=\"Times,serif\" font-size=\"14.00\" fill=\"#000000\">entropy = 0.0</text>\n",
       "<text text-anchor=\"middle\" x=\"56.5\" y=\"-223.3\" font-family=\"Times,serif\" font-size=\"14.00\" fill=\"#000000\">samples = 36</text>\n",
       "<text text-anchor=\"middle\" x=\"56.5\" y=\"-208.3\" font-family=\"Times,serif\" font-size=\"14.00\" fill=\"#000000\">value = [36, 0, 0]</text>\n",
       "</g>\n",
       "<!-- 0&#45;&gt;1 -->\n",
       "<g id=\"edge1\" class=\"edge\">\n",
       "<title>0&#45;&gt;1</title>\n",
       "<path fill=\"none\" stroke=\"#000000\" d=\"M103.5794,-296.9465C96.0172,-285.7113 87.5976,-273.2021 79.9933,-261.9043\"/>\n",
       "<polygon fill=\"#000000\" stroke=\"#000000\" points=\"82.8523,-259.8837 74.3649,-253.5422 77.0452,-263.7924 82.8523,-259.8837\"/>\n",
       "<text text-anchor=\"middle\" x=\"69.5705\" y=\"-274.3781\" font-family=\"Times,serif\" font-size=\"14.00\" fill=\"#000000\">True</text>\n",
       "</g>\n",
       "<!-- 2 -->\n",
       "<g id=\"node3\" class=\"node\">\n",
       "<title>2</title>\n",
       "<polygon fill=\"none\" stroke=\"#000000\" points=\"261.5,-261 131.5,-261 131.5,-193 261.5,-193 261.5,-261\"/>\n",
       "<text text-anchor=\"middle\" x=\"196.5\" y=\"-245.8\" font-family=\"Times,serif\" font-size=\"14.00\" fill=\"#000000\">Petal.Width &lt;= 1.55</text>\n",
       "<text text-anchor=\"middle\" x=\"196.5\" y=\"-230.8\" font-family=\"Times,serif\" font-size=\"14.00\" fill=\"#000000\">entropy = 0.998</text>\n",
       "<text text-anchor=\"middle\" x=\"196.5\" y=\"-215.8\" font-family=\"Times,serif\" font-size=\"14.00\" fill=\"#000000\">samples = 74</text>\n",
       "<text text-anchor=\"middle\" x=\"196.5\" y=\"-200.8\" font-family=\"Times,serif\" font-size=\"14.00\" fill=\"#000000\">value = [0, 35, 39]</text>\n",
       "</g>\n",
       "<!-- 0&#45;&gt;2 -->\n",
       "<g id=\"edge2\" class=\"edge\">\n",
       "<title>0&#45;&gt;2</title>\n",
       "<path fill=\"none\" stroke=\"#000000\" d=\"M149.4206,-296.9465C155.2826,-288.2373 161.6598,-278.7626 167.773,-269.6801\"/>\n",
       "<polygon fill=\"#000000\" stroke=\"#000000\" points=\"170.8476,-271.3802 173.5279,-261.13 165.0405,-267.4716 170.8476,-271.3802\"/>\n",
       "<text text-anchor=\"middle\" x=\"178.3223\" y=\"-281.966\" font-family=\"Times,serif\" font-size=\"14.00\" fill=\"#000000\">False</text>\n",
       "</g>\n",
       "<!-- 3 -->\n",
       "<g id=\"node4\" class=\"node\">\n",
       "<title>3</title>\n",
       "<polygon fill=\"none\" stroke=\"#000000\" points=\"182,-149.5 69,-149.5 69,-96.5 182,-96.5 182,-149.5\"/>\n",
       "<text text-anchor=\"middle\" x=\"125.5\" y=\"-134.3\" font-family=\"Times,serif\" font-size=\"14.00\" fill=\"#000000\">entropy = 0.0</text>\n",
       "<text text-anchor=\"middle\" x=\"125.5\" y=\"-119.3\" font-family=\"Times,serif\" font-size=\"14.00\" fill=\"#000000\">samples = 32</text>\n",
       "<text text-anchor=\"middle\" x=\"125.5\" y=\"-104.3\" font-family=\"Times,serif\" font-size=\"14.00\" fill=\"#000000\">value = [0, 32, 0]</text>\n",
       "</g>\n",
       "<!-- 2&#45;&gt;3 -->\n",
       "<g id=\"edge3\" class=\"edge\">\n",
       "<title>2&#45;&gt;3</title>\n",
       "<path fill=\"none\" stroke=\"#000000\" d=\"M173.2519,-192.9465C165.5818,-181.7113 157.0418,-169.2021 149.3289,-157.9043\"/>\n",
       "<polygon fill=\"#000000\" stroke=\"#000000\" points=\"152.1491,-155.8277 143.6201,-149.5422 146.3678,-159.7745 152.1491,-155.8277\"/>\n",
       "</g>\n",
       "<!-- 4 -->\n",
       "<g id=\"node5\" class=\"node\">\n",
       "<title>4</title>\n",
       "<polygon fill=\"none\" stroke=\"#000000\" points=\"334.5,-157 200.5,-157 200.5,-89 334.5,-89 334.5,-157\"/>\n",
       "<text text-anchor=\"middle\" x=\"267.5\" y=\"-141.8\" font-family=\"Times,serif\" font-size=\"14.00\" fill=\"#000000\">Petal.Length &lt;= 5.05</text>\n",
       "<text text-anchor=\"middle\" x=\"267.5\" y=\"-126.8\" font-family=\"Times,serif\" font-size=\"14.00\" fill=\"#000000\">entropy = 0.371</text>\n",
       "<text text-anchor=\"middle\" x=\"267.5\" y=\"-111.8\" font-family=\"Times,serif\" font-size=\"14.00\" fill=\"#000000\">samples = 42</text>\n",
       "<text text-anchor=\"middle\" x=\"267.5\" y=\"-96.8\" font-family=\"Times,serif\" font-size=\"14.00\" fill=\"#000000\">value = [0, 3, 39]</text>\n",
       "</g>\n",
       "<!-- 2&#45;&gt;4 -->\n",
       "<g id=\"edge4\" class=\"edge\">\n",
       "<title>2&#45;&gt;4</title>\n",
       "<path fill=\"none\" stroke=\"#000000\" d=\"M219.7481,-192.9465C225.755,-184.1475 232.2955,-174.5672 238.5543,-165.3993\"/>\n",
       "<polygon fill=\"#000000\" stroke=\"#000000\" points=\"241.452,-167.3623 244.1997,-157.13 235.6707,-163.4155 241.452,-167.3623\"/>\n",
       "</g>\n",
       "<!-- 5 -->\n",
       "<g id=\"node6\" class=\"node\">\n",
       "<title>5</title>\n",
       "<polygon fill=\"none\" stroke=\"#000000\" points=\"256.5,-53 150.5,-53 150.5,0 256.5,0 256.5,-53\"/>\n",
       "<text text-anchor=\"middle\" x=\"203.5\" y=\"-37.8\" font-family=\"Times,serif\" font-size=\"14.00\" fill=\"#000000\">entropy = 0.845</text>\n",
       "<text text-anchor=\"middle\" x=\"203.5\" y=\"-22.8\" font-family=\"Times,serif\" font-size=\"14.00\" fill=\"#000000\">samples = 11</text>\n",
       "<text text-anchor=\"middle\" x=\"203.5\" y=\"-7.8\" font-family=\"Times,serif\" font-size=\"14.00\" fill=\"#000000\">value = [0, 3, 8]</text>\n",
       "</g>\n",
       "<!-- 4&#45;&gt;5 -->\n",
       "<g id=\"edge5\" class=\"edge\">\n",
       "<title>4&#45;&gt;5</title>\n",
       "<path fill=\"none\" stroke=\"#000000\" d=\"M244.936,-88.9777C239.1059,-80.187 232.8169,-70.7044 226.943,-61.8477\"/>\n",
       "<polygon fill=\"#000000\" stroke=\"#000000\" points=\"229.6838,-59.6478 221.2399,-53.2485 223.8502,-63.5167 229.6838,-59.6478\"/>\n",
       "</g>\n",
       "<!-- 6 -->\n",
       "<g id=\"node7\" class=\"node\">\n",
       "<title>6</title>\n",
       "<polygon fill=\"none\" stroke=\"#000000\" points=\"388,-53 275,-53 275,0 388,0 388,-53\"/>\n",
       "<text text-anchor=\"middle\" x=\"331.5\" y=\"-37.8\" font-family=\"Times,serif\" font-size=\"14.00\" fill=\"#000000\">entropy = 0.0</text>\n",
       "<text text-anchor=\"middle\" x=\"331.5\" y=\"-22.8\" font-family=\"Times,serif\" font-size=\"14.00\" fill=\"#000000\">samples = 31</text>\n",
       "<text text-anchor=\"middle\" x=\"331.5\" y=\"-7.8\" font-family=\"Times,serif\" font-size=\"14.00\" fill=\"#000000\">value = [0, 0, 31]</text>\n",
       "</g>\n",
       "<!-- 4&#45;&gt;6 -->\n",
       "<g id=\"edge6\" class=\"edge\">\n",
       "<title>4&#45;&gt;6</title>\n",
       "<path fill=\"none\" stroke=\"#000000\" d=\"M290.064,-88.9777C295.8941,-80.187 302.1831,-70.7044 308.057,-61.8477\"/>\n",
       "<polygon fill=\"#000000\" stroke=\"#000000\" points=\"311.1498,-63.5167 313.7601,-53.2485 305.3162,-59.6478 311.1498,-63.5167\"/>\n",
       "</g>\n",
       "</g>\n",
       "</svg>\n"
      ],
      "text/plain": [
       "<graphviz.files.Source at 0x7f07215bb710>"
      ]
     },
     "execution_count": 10,
     "metadata": {},
     "output_type": "execute_result"
    }
   ],
   "source": [
    "file=open('iris-dtree.dot','r')\n",
    "text=file.read()\n",
    "Source(text)"
   ]
  },
  {
   "cell_type": "markdown",
   "metadata": {},
   "source": [
    "### Validacion Cruzada para la poda del arbol"
   ]
  },
  {
   "cell_type": "code",
   "execution_count": 11,
   "metadata": {},
   "outputs": [],
   "source": [
    "from sklearn.model_selection import KFold\n",
    "from sklearn.model_selection import cross_val_score\n",
    "\n",
    "X=dataset[predictors]\n",
    "\n",
    "Y=dataset[target]"
   ]
  },
  {
   "cell_type": "code",
   "execution_count": 14,
   "metadata": {},
   "outputs": [
    {
     "name": "stdout",
     "output_type": "stream",
     "text": [
      "Score para i =  1  es de  0.5666666666666667\n",
      "\n",
      "Rasgos Clasificadores relevantes para este arbol:\n",
      " [('Sepal.Length', 0.0), ('Sepal.Width', 0.0), ('Petal.Length', 1.0), ('Petal.Width', 0.0)]\n",
      "\n",
      "\n",
      "Score para i =  2  es de  0.9200000000000002\n",
      "\n",
      "Rasgos Clasificadores relevantes para este arbol:\n",
      " [('Sepal.Length', 0.0), ('Sepal.Width', 0.0), ('Petal.Length', 0.6662028463448376), ('Petal.Width', 0.3337971536551623)]\n",
      "\n",
      "\n",
      "Score para i =  3  es de  0.9400000000000001\n",
      "\n",
      "Rasgos Clasificadores relevantes para este arbol:\n",
      " [('Sepal.Length', 0.0), ('Sepal.Width', 0.0), ('Petal.Length', 0.6897698149958357), ('Petal.Width', 0.3102301850041643)]\n",
      "\n",
      "\n",
      "Score para i =  4  es de  0.9333333333333333\n",
      "\n",
      "Rasgos Clasificadores relevantes para este arbol:\n",
      " [('Sepal.Length', 0.0), ('Sepal.Width', 0.0), ('Petal.Length', 0.6686915796639514), ('Petal.Width', 0.33130842033604857)]\n",
      "\n",
      "\n",
      "Score para i =  5  es de  0.9333333333333333\n",
      "\n",
      "Rasgos Clasificadores relevantes para este arbol:\n",
      " [('Sepal.Length', 0.0), ('Sepal.Width', 0.0), ('Petal.Length', 0.6686915796639514), ('Petal.Width', 0.33130842033604857)]\n",
      "\n",
      "\n",
      "Score para i =  6  es de  0.9333333333333333\n",
      "\n",
      "Rasgos Clasificadores relevantes para este arbol:\n",
      " [('Sepal.Length', 0.0), ('Sepal.Width', 0.0), ('Petal.Length', 0.6686915796639514), ('Petal.Width', 0.33130842033604857)]\n",
      "\n",
      "\n",
      "Score para i =  7  es de  0.9333333333333333\n",
      "\n",
      "Rasgos Clasificadores relevantes para este arbol:\n",
      " [('Sepal.Length', 0.0), ('Sepal.Width', 0.0), ('Petal.Length', 0.6686915796639514), ('Petal.Width', 0.33130842033604857)]\n",
      "\n",
      "\n",
      "Score para i =  8  es de  0.9333333333333333\n",
      "\n",
      "Rasgos Clasificadores relevantes para este arbol:\n",
      " [('Sepal.Length', 0.0), ('Sepal.Width', 0.0), ('Petal.Length', 0.6686915796639514), ('Petal.Width', 0.33130842033604857)]\n",
      "\n",
      "\n",
      "Score para i =  9  es de  0.9333333333333333\n",
      "\n",
      "Rasgos Clasificadores relevantes para este arbol:\n",
      " [('Sepal.Length', 0.0), ('Sepal.Width', 0.0), ('Petal.Length', 0.6686915796639514), ('Petal.Width', 0.33130842033604857)]\n",
      "\n",
      "\n",
      "Score para i =  10  es de  0.9333333333333333\n",
      "\n",
      "Rasgos Clasificadores relevantes para este arbol:\n",
      " [('Sepal.Length', 0.0), ('Sepal.Width', 0.0), ('Petal.Length', 0.6686915796639514), ('Petal.Width', 0.33130842033604857)]\n",
      "\n",
      "\n"
     ]
    }
   ],
   "source": [
    "for i in range(1,11): #bucle para validar con que profundidad (max_depth) se obtiene un mejor score\n",
    "    tree = DecisionTreeClassifier(criterion=\"entropy\", max_depth=i, min_samples_split=20, random_state=99)\n",
    "    tree.fit(X,Y) #min_samples_split=numero min de muestras por rama\n",
    "    \n",
    "    cross_validation=KFold(n_splits=10,shuffle=True,random_state=1) #n_splits=numero de iteraciones\n",
    "    \n",
    "    scores=cross_val_score(tree,X,Y,scoring='accuracy',cv=cross_validation)\n",
    "    score=np.mean(scores) #score basado en la exactitud (mas cercano a 100 es mejor)\n",
    "    \n",
    "    print(\"Score para i = \",i,\" es de \", score)\n",
    "    print('')\n",
    "    print(\"Rasgos Clasificadores relevantes para este arbol:\\n\",list(zip(predictors,tree.feature_importances_)))#variables importantes\n",
    "    print('')\n",
    "    print('')"
   ]
  },
  {
   "cell_type": "markdown",
   "metadata": {},
   "source": [
    "# Random Forests"
   ]
  },
  {
   "cell_type": "code",
   "execution_count": null,
   "metadata": {},
   "outputs": [],
   "source": [
    "from sklearn.ensemble import Random"
   ]
  }
 ],
 "metadata": {
  "kernelspec": {
   "display_name": "Python 3",
   "language": "python",
   "name": "python3"
  },
  "language_info": {
   "codemirror_mode": {
    "name": "ipython",
    "version": 3
   },
   "file_extension": ".py",
   "mimetype": "text/x-python",
   "name": "python",
   "nbconvert_exporter": "python",
   "pygments_lexer": "ipython3",
   "version": "3.7.2"
  }
 },
 "nbformat": 4,
 "nbformat_minor": 2
}
