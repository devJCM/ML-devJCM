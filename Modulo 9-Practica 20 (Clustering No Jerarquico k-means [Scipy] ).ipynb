{
 "cells": [
  {
   "cell_type": "markdown",
   "metadata": {},
   "source": [
    "# Metodo K-Means"
   ]
  },
  {
   "cell_type": "code",
   "execution_count": 2,
   "metadata": {},
   "outputs": [],
   "source": [
    "import numpy as np"
   ]
  },
  {
   "cell_type": "markdown",
   "metadata": {},
   "source": [
    "### Generamos Datos"
   ]
  },
  {
   "cell_type": "code",
   "execution_count": 3,
   "metadata": {
    "scrolled": true
   },
   "outputs": [
    {
     "data": {
      "text/plain": [
       "array([[2.95819545e-02, 1.35300722e-01, 2.28026757e-01],\n",
       "       [2.90527114e-01, 6.66902376e-01, 8.85923218e-02],\n",
       "       [3.21594323e-01, 5.30101863e-01, 2.17008426e-01],\n",
       "       [9.88916163e-01, 1.81585628e-01, 7.05553617e-01],\n",
       "       [9.74649324e-01, 8.75929424e-01, 6.70901938e-01],\n",
       "       [1.05872697e-01, 8.99602571e-01, 6.05107876e-02],\n",
       "       [9.38174280e-02, 8.39909626e-01, 4.43139622e-01],\n",
       "       [5.61267561e-01, 7.98484007e-02, 1.21068240e-01],\n",
       "       [8.30097971e-02, 2.11156022e-01, 9.20912595e-01],\n",
       "       [8.42730789e-01, 3.42080742e-02, 9.89429589e-01],\n",
       "       [5.54786902e-01, 8.47263786e-01, 8.18266528e-01],\n",
       "       [3.18993013e-02, 9.65116495e-01, 2.43100138e-01],\n",
       "       [7.67582413e-01, 8.10919758e-01, 6.87806795e-01],\n",
       "       [2.87753221e-02, 1.53826437e-01, 9.81237576e-01],\n",
       "       [8.02504057e-02, 5.89231865e-01, 1.63534488e-01],\n",
       "       [3.94337971e-01, 8.51607937e-01, 4.63750226e-01],\n",
       "       [8.81110773e-03, 3.20197158e-01, 3.55666130e-01],\n",
       "       [3.40811691e-01, 2.70490033e-01, 1.92243494e-01],\n",
       "       [2.72452971e-01, 1.35716945e-01, 6.88937662e-01],\n",
       "       [5.44052315e-01, 6.26960845e-01, 8.26197232e-01],\n",
       "       [1.95484210e-01, 7.78712194e-01, 2.92745438e-02],\n",
       "       [3.06642885e-01, 4.18873852e-01, 1.48848694e-01],\n",
       "       [1.10476275e-02, 7.88214115e-04, 7.35969326e-01],\n",
       "       [2.50568809e-01, 7.36196425e-01, 6.56929096e-01],\n",
       "       [9.82140809e-01, 9.04188786e-01, 5.12567805e-01],\n",
       "       [9.94017088e-01, 8.41668416e-01, 2.63834814e-02],\n",
       "       [5.82837302e-01, 7.25391388e-01, 1.12134313e-01],\n",
       "       [3.86311077e-01, 5.08637714e-01, 1.32659007e-01],\n",
       "       [1.54012383e-01, 2.88071433e-01, 2.99224127e-01],\n",
       "       [8.29318306e-03, 6.80572454e-01, 3.10798305e-01]])"
      ]
     },
     "execution_count": 3,
     "metadata": {},
     "output_type": "execute_result"
    }
   ],
   "source": [
    "data=np.random.random(90).reshape(30,3) #reshape(30 datos, 3 columnas)\n",
    "data"
   ]
  },
  {
   "cell_type": "markdown",
   "metadata": {},
   "source": [
    "### Creamos centroides (temporales) de los clusters"
   ]
  },
  {
   "cell_type": "code",
   "execution_count": 4,
   "metadata": {
    "scrolled": true
   },
   "outputs": [
    {
     "data": {
      "text/plain": [
       "array([[0.25056881, 0.73619643, 0.6569291 ],\n",
       "       [0.09381743, 0.83990963, 0.44313962]])"
      ]
     },
     "execution_count": 4,
     "metadata": {},
     "output_type": "execute_result"
    }
   ],
   "source": [
    "centroide_1=np.random.choice(range(len(data)))\n",
    "centroide_2=np.random.choice(range(len(data)))\n",
    "clust_centers=np.vstack((data[centroide_1],data[centroide_2]))\n",
    "clust_centers"
   ]
  },
  {
   "cell_type": "markdown",
   "metadata": {},
   "source": [
    "### Generamos clusters"
   ]
  },
  {
   "cell_type": "code",
   "execution_count": 5,
   "metadata": {},
   "outputs": [],
   "source": [
    "from scipy.cluster.vq import vq"
   ]
  },
  {
   "cell_type": "code",
   "execution_count": 15,
   "metadata": {},
   "outputs": [
    {
     "data": {
      "text/plain": [
       "[0.7395089239917555,\n",
       " 0.4408287621720966,\n",
       " 0.4460924585964919,\n",
       " 0.9247239022059225,\n",
       " 0.7375724658666079,\n",
       " 0.38744470860895375,\n",
       " 0.0,\n",
       " 0.9024817456291,\n",
       " 0.6110897939055524,\n",
       " 0.9767292528596785,\n",
       " 0.3618209138962428,\n",
       " 0.2439803470829967,\n",
       " 0.5232973105902876,\n",
       " 0.7025120240187611,\n",
       " 0.37576912420296327,\n",
       " 0.2670345761198636,\n",
       " 0.5338339965036728,\n",
       " 0.6640473854169059,\n",
       " 0.6017300648864725,\n",
       " 0.35597286661293776,\n",
       " 0.4305410124616696,\n",
       " 0.5560332261063239,\n",
       " 0.7774593183789479,\n",
       " 0.0,\n",
       " 0.7643685014137045,\n",
       " 0.9805240722182953,\n",
       " 0.6015142384090701,\n",
       " 0.5400850177108956,\n",
       " 0.5734635936232702,\n",
       " 0.2240913988615501]"
      ]
     },
     "execution_count": 15,
     "metadata": {},
     "output_type": "execute_result"
    }
   ],
   "source": [
    "clusters=vq(data,clust_centers)\n",
    "clusters[0].tolist() #array que dictaminna a que cluster pertenece cada dato\n",
    "clusters[1].tolist() #distancias al varicentro del cluster"
   ]
  },
  {
   "cell_type": "code",
   "execution_count": 7,
   "metadata": {},
   "outputs": [],
   "source": [
    "from scipy.cluster.vq import kmeans"
   ]
  },
  {
   "cell_type": "code",
   "execution_count": 8,
   "metadata": {},
   "outputs": [
    {
     "data": {
      "text/plain": [
       "(array([[0.27146498, 0.57723536, 0.20199795],\n",
       "        [0.52505944, 0.45989503, 0.76622581]]), 0.4107357892664791)"
      ]
     },
     "execution_count": 8,
     "metadata": {},
     "output_type": "execute_result"
    }
   ],
   "source": [
    "clusters_2=kmeans(data,2)\n",
    "clusters_2 #caracteristicas de los varicentros de los 2 clusters"
   ]
  }
 ],
 "metadata": {
  "kernelspec": {
   "display_name": "Python 3",
   "language": "python",
   "name": "python3"
  },
  "language_info": {
   "codemirror_mode": {
    "name": "ipython",
    "version": 3
   },
   "file_extension": ".py",
   "mimetype": "text/x-python",
   "name": "python",
   "nbconvert_exporter": "python",
   "pygments_lexer": "ipython3",
   "version": "3.7.0"
  }
 },
 "nbformat": 4,
 "nbformat_minor": 2
}
