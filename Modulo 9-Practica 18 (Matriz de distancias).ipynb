{
 "cells": [
  {
   "cell_type": "code",
   "execution_count": 13,
   "metadata": {},
   "outputs": [],
   "source": [
    "from scipy.spatial import distance_matrix\n",
    "import pandas as pd"
   ]
  },
  {
   "cell_type": "code",
   "execution_count": 14,
   "metadata": {},
   "outputs": [
    {
     "data": {
      "text/html": [
       "<div>\n",
       "<style scoped>\n",
       "    .dataframe tbody tr th:only-of-type {\n",
       "        vertical-align: middle;\n",
       "    }\n",
       "\n",
       "    .dataframe tbody tr th {\n",
       "        vertical-align: top;\n",
       "    }\n",
       "\n",
       "    .dataframe thead th {\n",
       "        text-align: right;\n",
       "    }\n",
       "</style>\n",
       "<table border=\"1\" class=\"dataframe\">\n",
       "  <thead>\n",
       "    <tr style=\"text-align: right;\">\n",
       "      <th></th>\n",
       "      <th>user_id</th>\n",
       "      <th>star_wars</th>\n",
       "      <th>lord_of_the_rings</th>\n",
       "      <th>harry_potter</th>\n",
       "    </tr>\n",
       "  </thead>\n",
       "  <tbody>\n",
       "    <tr>\n",
       "      <th>0</th>\n",
       "      <td>1</td>\n",
       "      <td>1.2</td>\n",
       "      <td>4.9</td>\n",
       "      <td>2.1</td>\n",
       "    </tr>\n",
       "    <tr>\n",
       "      <th>1</th>\n",
       "      <td>2</td>\n",
       "      <td>2.1</td>\n",
       "      <td>8.1</td>\n",
       "      <td>7.9</td>\n",
       "    </tr>\n",
       "    <tr>\n",
       "      <th>2</th>\n",
       "      <td>3</td>\n",
       "      <td>7.4</td>\n",
       "      <td>3.0</td>\n",
       "      <td>9.9</td>\n",
       "    </tr>\n",
       "    <tr>\n",
       "      <th>3</th>\n",
       "      <td>4</td>\n",
       "      <td>5.6</td>\n",
       "      <td>0.5</td>\n",
       "      <td>1.8</td>\n",
       "    </tr>\n",
       "    <tr>\n",
       "      <th>4</th>\n",
       "      <td>5</td>\n",
       "      <td>1.5</td>\n",
       "      <td>8.3</td>\n",
       "      <td>2.6</td>\n",
       "    </tr>\n",
       "  </tbody>\n",
       "</table>\n",
       "</div>"
      ],
      "text/plain": [
       "   user_id  star_wars  lord_of_the_rings  harry_potter\n",
       "0        1        1.2                4.9           2.1\n",
       "1        2        2.1                8.1           7.9\n",
       "2        3        7.4                3.0           9.9\n",
       "3        4        5.6                0.5           1.8\n",
       "4        5        1.5                8.3           2.6"
      ]
     },
     "execution_count": 14,
     "metadata": {},
     "output_type": "execute_result"
    }
   ],
   "source": [
    "dataset=pd.read_csv('../python-ml-course/datasets/movies/movies.csv',sep=\";\")\n",
    "dataset.head()"
   ]
  },
  {
   "cell_type": "code",
   "execution_count": 15,
   "metadata": {},
   "outputs": [
    {
     "data": {
      "text/plain": [
       "['star_wars', 'lord_of_the_rings', 'harry_potter']"
      ]
     },
     "execution_count": 15,
     "metadata": {},
     "output_type": "execute_result"
    }
   ],
   "source": [
    "movies=dataset.columns.values.tolist()[1:] #omitimos user_id\n",
    "movies"
   ]
  },
  {
   "cell_type": "code",
   "execution_count": 16,
   "metadata": {},
   "outputs": [
    {
     "data": {
      "text/html": [
       "<div>\n",
       "<style scoped>\n",
       "    .dataframe tbody tr th:only-of-type {\n",
       "        vertical-align: middle;\n",
       "    }\n",
       "\n",
       "    .dataframe tbody tr th {\n",
       "        vertical-align: top;\n",
       "    }\n",
       "\n",
       "    .dataframe thead th {\n",
       "        text-align: right;\n",
       "    }\n",
       "</style>\n",
       "<table border=\"1\" class=\"dataframe\">\n",
       "  <thead>\n",
       "    <tr style=\"text-align: right;\">\n",
       "      <th>user_id</th>\n",
       "      <th>1</th>\n",
       "      <th>2</th>\n",
       "      <th>3</th>\n",
       "      <th>4</th>\n",
       "      <th>5</th>\n",
       "      <th>6</th>\n",
       "      <th>7</th>\n",
       "      <th>8</th>\n",
       "      <th>9</th>\n",
       "      <th>10</th>\n",
       "    </tr>\n",
       "    <tr>\n",
       "      <th>user_id</th>\n",
       "      <th></th>\n",
       "      <th></th>\n",
       "      <th></th>\n",
       "      <th></th>\n",
       "      <th></th>\n",
       "      <th></th>\n",
       "      <th></th>\n",
       "      <th></th>\n",
       "      <th></th>\n",
       "      <th></th>\n",
       "    </tr>\n",
       "  </thead>\n",
       "  <tbody>\n",
       "    <tr>\n",
       "      <th>1</th>\n",
       "      <td>0.000000</td>\n",
       "      <td>6.685058</td>\n",
       "      <td>10.143471</td>\n",
       "      <td>6.229767</td>\n",
       "      <td>3.449638</td>\n",
       "      <td>4.742362</td>\n",
       "      <td>7.244998</td>\n",
       "      <td>5.047772</td>\n",
       "      <td>3.633180</td>\n",
       "      <td>0.412311</td>\n",
       "    </tr>\n",
       "    <tr>\n",
       "      <th>2</th>\n",
       "      <td>6.685058</td>\n",
       "      <td>0.000000</td>\n",
       "      <td>7.622336</td>\n",
       "      <td>10.354709</td>\n",
       "      <td>5.337602</td>\n",
       "      <td>4.634652</td>\n",
       "      <td>0.616441</td>\n",
       "      <td>3.618011</td>\n",
       "      <td>8.015610</td>\n",
       "      <td>6.578754</td>\n",
       "    </tr>\n",
       "    <tr>\n",
       "      <th>3</th>\n",
       "      <td>10.143471</td>\n",
       "      <td>7.622336</td>\n",
       "      <td>0.000000</td>\n",
       "      <td>8.666026</td>\n",
       "      <td>10.779147</td>\n",
       "      <td>6.004998</td>\n",
       "      <td>7.626270</td>\n",
       "      <td>10.010494</td>\n",
       "      <td>8.424369</td>\n",
       "      <td>9.770363</td>\n",
       "    </tr>\n",
       "    <tr>\n",
       "      <th>4</th>\n",
       "      <td>6.229767</td>\n",
       "      <td>10.354709</td>\n",
       "      <td>8.666026</td>\n",
       "      <td>0.000000</td>\n",
       "      <td>8.848164</td>\n",
       "      <td>6.476110</td>\n",
       "      <td>10.823123</td>\n",
       "      <td>9.958414</td>\n",
       "      <td>3.482815</td>\n",
       "      <td>5.890671</td>\n",
       "    </tr>\n",
       "    <tr>\n",
       "      <th>5</th>\n",
       "      <td>3.449638</td>\n",
       "      <td>5.337602</td>\n",
       "      <td>10.779147</td>\n",
       "      <td>8.848164</td>\n",
       "      <td>0.000000</td>\n",
       "      <td>6.113101</td>\n",
       "      <td>5.921993</td>\n",
       "      <td>2.167948</td>\n",
       "      <td>6.709694</td>\n",
       "      <td>3.612478</td>\n",
       "    </tr>\n",
       "    <tr>\n",
       "      <th>6</th>\n",
       "      <td>4.742362</td>\n",
       "      <td>4.634652</td>\n",
       "      <td>6.004998</td>\n",
       "      <td>6.476110</td>\n",
       "      <td>6.113101</td>\n",
       "      <td>0.000000</td>\n",
       "      <td>4.949747</td>\n",
       "      <td>5.987487</td>\n",
       "      <td>3.945884</td>\n",
       "      <td>4.431704</td>\n",
       "    </tr>\n",
       "    <tr>\n",
       "      <th>7</th>\n",
       "      <td>7.244998</td>\n",
       "      <td>0.616441</td>\n",
       "      <td>7.626270</td>\n",
       "      <td>10.823123</td>\n",
       "      <td>5.921993</td>\n",
       "      <td>4.949747</td>\n",
       "      <td>0.000000</td>\n",
       "      <td>4.153312</td>\n",
       "      <td>8.471718</td>\n",
       "      <td>7.137226</td>\n",
       "    </tr>\n",
       "    <tr>\n",
       "      <th>8</th>\n",
       "      <td>5.047772</td>\n",
       "      <td>3.618011</td>\n",
       "      <td>10.010494</td>\n",
       "      <td>9.958414</td>\n",
       "      <td>2.167948</td>\n",
       "      <td>5.987487</td>\n",
       "      <td>4.153312</td>\n",
       "      <td>0.000000</td>\n",
       "      <td>7.769170</td>\n",
       "      <td>5.107837</td>\n",
       "    </tr>\n",
       "    <tr>\n",
       "      <th>9</th>\n",
       "      <td>3.633180</td>\n",
       "      <td>8.015610</td>\n",
       "      <td>8.424369</td>\n",
       "      <td>3.482815</td>\n",
       "      <td>6.709694</td>\n",
       "      <td>3.945884</td>\n",
       "      <td>8.471718</td>\n",
       "      <td>7.769170</td>\n",
       "      <td>0.000000</td>\n",
       "      <td>3.293934</td>\n",
       "    </tr>\n",
       "    <tr>\n",
       "      <th>10</th>\n",
       "      <td>0.412311</td>\n",
       "      <td>6.578754</td>\n",
       "      <td>9.770363</td>\n",
       "      <td>5.890671</td>\n",
       "      <td>3.612478</td>\n",
       "      <td>4.431704</td>\n",
       "      <td>7.137226</td>\n",
       "      <td>5.107837</td>\n",
       "      <td>3.293934</td>\n",
       "      <td>0.000000</td>\n",
       "    </tr>\n",
       "  </tbody>\n",
       "</table>\n",
       "</div>"
      ],
      "text/plain": [
       "user_id         1          2          3          4          5         6   \\\n",
       "user_id                                                                    \n",
       "1         0.000000   6.685058  10.143471   6.229767   3.449638  4.742362   \n",
       "2         6.685058   0.000000   7.622336  10.354709   5.337602  4.634652   \n",
       "3        10.143471   7.622336   0.000000   8.666026  10.779147  6.004998   \n",
       "4         6.229767  10.354709   8.666026   0.000000   8.848164  6.476110   \n",
       "5         3.449638   5.337602  10.779147   8.848164   0.000000  6.113101   \n",
       "6         4.742362   4.634652   6.004998   6.476110   6.113101  0.000000   \n",
       "7         7.244998   0.616441   7.626270  10.823123   5.921993  4.949747   \n",
       "8         5.047772   3.618011  10.010494   9.958414   2.167948  5.987487   \n",
       "9         3.633180   8.015610   8.424369   3.482815   6.709694  3.945884   \n",
       "10        0.412311   6.578754   9.770363   5.890671   3.612478  4.431704   \n",
       "\n",
       "user_id         7          8         9         10  \n",
       "user_id                                            \n",
       "1         7.244998   5.047772  3.633180  0.412311  \n",
       "2         0.616441   3.618011  8.015610  6.578754  \n",
       "3         7.626270  10.010494  8.424369  9.770363  \n",
       "4        10.823123   9.958414  3.482815  5.890671  \n",
       "5         5.921993   2.167948  6.709694  3.612478  \n",
       "6         4.949747   5.987487  3.945884  4.431704  \n",
       "7         0.000000   4.153312  8.471718  7.137226  \n",
       "8         4.153312   0.000000  7.769170  5.107837  \n",
       "9         8.471718   7.769170  0.000000  3.293934  \n",
       "10        7.137226   5.107837  3.293934  0.000000  "
      ]
     },
     "execution_count": 16,
     "metadata": {},
     "output_type": "execute_result"
    }
   ],
   "source": [
    "arr=distance_matrix(dataset[movies],dataset[movies],p=2) #p=1 distancia de manhatan p=2 distancia euclidia\n",
    "matriz=pd.DataFrame(arr,columns=dataset['user_id'],index=dataset['user_id'])\n",
    "matriz"
   ]
  },
  {
   "cell_type": "code",
   "execution_count": 17,
   "metadata": {},
   "outputs": [],
   "source": [
    "import matplotlib.pyplot as plt\n",
    "from mpl_toolkits.mplot3d import Axes3D"
   ]
  },
  {
   "cell_type": "code",
   "execution_count": 18,
   "metadata": {},
   "outputs": [
    {
     "data": {
      "text/plain": [
       "<mpl_toolkits.mplot3d.art3d.Path3DCollection at 0x7f8fff614be0>"
      ]
     },
     "execution_count": 18,
     "metadata": {},
     "output_type": "execute_result"
    },
    {
     "data": {
      "image/png": "[encoded data removed]",
      "text/plain": [
       "<Figure size 432x288 with 1 Axes>"
      ]
     },
     "metadata": {
      "needs_background": "light"
     },
     "output_type": "display_data"
    }
   ],
   "source": [
    "fig=plt.figure()\n",
    "ax=fig.add_subplot(111,projection='3d')\n",
    "ax.scatter(xs=dataset['star_wars'],ys=dataset['lord_of_the_rings'],zs=dataset['harry_potter'])"
   ]
  },
  {
   "cell_type": "markdown",
   "metadata": {},
   "source": [
    "## Clustering Jerarquico Asociativo"
   ]
  },
  {
   "cell_type": "code",
   "execution_count": 19,
   "metadata": {},
   "outputs": [],
   "source": [
    "import matplotlib.pyplot as plt\n",
    "from scipy.cluster.hierarchy import dendrogram,linkage"
   ]
  },
  {
   "cell_type": "code",
   "execution_count": 20,
   "metadata": {},
   "outputs": [
    {
     "data": {
      "text/plain": [
       "array([[ 0.        ,  9.        ,  0.41231056,  2.        ],\n",
       "       [ 1.        ,  6.        ,  0.6164414 ,  2.        ],\n",
       "       [ 4.        ,  7.        ,  2.16794834,  2.        ],\n",
       "       [ 3.        ,  8.        ,  3.48281495,  2.        ],\n",
       "       [ 5.        , 10.        ,  5.2943366 ,  3.        ],\n",
       "       [13.        , 14.        ,  6.59317829,  5.        ],\n",
       "       [11.        , 12.        ,  6.66408283,  4.        ],\n",
       "       [ 2.        , 15.        , 10.62355873,  6.        ],\n",
       "       [16.        , 17.        , 12.8156935 , 10.        ]])"
      ]
     },
     "execution_count": 20,
     "metadata": {},
     "output_type": "execute_result"
    }
   ],
   "source": [
    "clusterings=linkage(dataset[movies],'ward')\n",
    "clusterings #array([[ id_usuario , id_usuario , distancia , #elementos_en_cluster ]])\n",
    "\n",
    "#Los clusters generados tienen como id_usuario=len(dataset[movies])++ \n",
    "\n",
    "#en este caso el primer cluster tiene como id_usuario=11, el segundo cluster id_usuario=12"
   ]
  },
  {
   "cell_type": "code",
   "execution_count": 29,
   "metadata": {},
   "outputs": [
    {
     "data": {
      "text/plain": [
       "<function matplotlib.pyplot.show(*args, **kw)>"
      ]
     },
     "execution_count": 29,
     "metadata": {},
     "output_type": "execute_result"
    },
    {
     "data": {
      "image/png": "[encoded data removed]",
      "text/plain": [
       "<Figure size 1800x720 with 1 Axes>"
      ]
     },
     "metadata": {
      "needs_background": "light"
     },
     "output_type": "display_data"
    }
   ],
   "source": [
    "plt.figure(figsize=(25,10)) #tamaño del endograma\n",
    "plt.title('Dendograma Jerarquico Asociativo')\n",
    "plt.xlabel('Id de usuarios')\n",
    "plt.ylabel('Distancia')\n",
    "dendrogram(clusterings,leaf_font_size=15)\n",
    "plt.show"
   ]
  }
 ],
 "metadata": {
  "kernelspec": {
   "display_name": "Python 3",
   "language": "python",
   "name": "python3"
  },
  "language_info": {
   "codemirror_mode": {
    "name": "ipython",
    "version": 3
   },
   "file_extension": ".py",
   "mimetype": "text/x-python",
   "name": "python",
   "nbconvert_exporter": "python",
   "pygments_lexer": "ipython3",
   "version": "3.7.0"
  }
 },
 "nbformat": 4,
 "nbformat_minor": 2
}
