{
 "cells": [
  {
   "cell_type": "code",
   "execution_count": 2,
   "metadata": {},
   "outputs": [],
   "source": [
    "import numpy as np \n",
    "import matplotlib.pyplot as plt\n",
    "\n",
    "from sklearn.cluster import KMeans\n",
    "from sklearn.metrics import silhouette_samples,silhouette_score"
   ]
  },
  {
   "cell_type": "markdown",
   "metadata": {},
   "source": [
    "### Creación y Analisis de Datos"
   ]
  },
  {
   "cell_type": "code",
   "execution_count": 3,
   "metadata": {},
   "outputs": [],
   "source": [
    "x1 = np.array([3,1,1,2,1,6,6,6,5,6,7,8,9,8,9,9,8])\n",
    "x2 = np.array([5,4,5,6,5,8,6,7,6,7,1,2,1,2,3,2,3])\n",
    "data=np.array(list(zip(x1,x2))).reshape(len(x1),2) #reshape(#filas,#columnas)"
   ]
  },
  {
   "cell_type": "code",
   "execution_count": 4,
   "metadata": {},
   "outputs": [
    {
     "data": {
      "text/plain": [
       "Text(0,0.5,'y')"
      ]
     },
     "execution_count": 4,
     "metadata": {},
     "output_type": "execute_result"
    },
    {
     "data": {
      "image/png": "[encoded data removed]",
      "text/plain": [
       "<Figure size 432x288 with 1 Axes>"
      ]
     },
     "metadata": {
      "needs_background": "light"
     },
     "output_type": "display_data"
    }
   ],
   "source": [
    "plt.scatter(x1,x2)\n",
    "plt.title(\"Dataset a clasificar\")\n",
    "plt.xlabel(\"x\")\n",
    "plt.ylabel(\"y\")"
   ]
  },
  {
   "cell_type": "markdown",
   "metadata": {},
   "source": [
    "### Obtencion del numero optimo de clusters"
   ]
  },
  {
   "cell_type": "code",
   "execution_count": 6,
   "metadata": {},
   "outputs": [
    {
     "name": "stdout",
     "output_type": "stream",
     "text": [
      "* Para el numero de clusters =  2  el promedio de las siluetas es de : 0.6113424368705715\n",
      "   - Para el Cluster  1  su silueta vale :  0.7746251901389686\n",
      "   - Para el Cluster  2  su silueta vale :  0.49704450958269375\n",
      "* Para el numero de clusters =  3  el promedio de las siluetas es de : 0.7122079383287169\n",
      "   - Para el Cluster  1  su silueta vale :  0.6609508863896014\n",
      "   - Para el Cluster  2  su silueta vale :  0.7345257364682265\n",
      "   - Para el Cluster  3  su silueta vale :  0.7322200728725188\n",
      "* Para el numero de clusters =  4  el promedio de las siluetas es de : 0.6389948643127632\n",
      "   - Para el Cluster  1  su silueta vale :  0.24096929517637128\n",
      "   - Para el Cluster  2  su silueta vale :  0.7345257364682265\n",
      "   - Para el Cluster  3  su silueta vale :  0.654458796162702\n",
      "   - Para el Cluster  4  su silueta vale :  0.655666655624379\n",
      "* Para el numero de clusters =  5  el promedio de las siluetas es de : 0.450456025779209\n",
      "   - Para el Cluster  1  su silueta vale :  -0.09040786759303471\n",
      "   - Para el Cluster  2  su silueta vale :  0.24096929517637128\n",
      "   - Para el Cluster  3  su silueta vale :  0.654458796162702\n",
      "   - Para el Cluster  4  su silueta vale :  0.42346712707864664\n",
      "   - Para el Cluster  5  su silueta vale :  0.655666655624379\n",
      "* Para el numero de clusters =  6  el promedio de las siluetas es de : 0.38502282100382856\n",
      "   - Para el Cluster  1  su silueta vale :  0.39420804524336517\n",
      "   - Para el Cluster  2  su silueta vale :  0.32882042637679976\n",
      "   - Para el Cluster  3  su silueta vale :  0.24096929517637128\n",
      "   - Para el Cluster  4  su silueta vale :  0.655666655624379\n",
      "   - Para el Cluster  5  su silueta vale :  0.19019110726892913\n",
      "   - Para el Cluster  6  su silueta vale :  0.5664789734180768\n",
      "* Para el numero de clusters =  7  el promedio de las siluetas es de : 0.3800485694524957\n",
      "   - Para el Cluster  1  su silueta vale :  0.5664789734180768\n",
      "   - Para el Cluster  2  su silueta vale :  0.027847735322324364\n",
      "   - Para el Cluster  3  su silueta vale :  0.655666655624379\n",
      "   - Para el Cluster  4  su silueta vale :  0.5237553814972481\n",
      "   - Para el Cluster  5  su silueta vale :  0.24096929517637128\n",
      "   - Para el Cluster  6  su silueta vale :  0.0\n",
      "   - Para el Cluster  7  su silueta vale :  0.32882042637679976\n",
      "* Para el numero de clusters =  8  el promedio de las siluetas es de : 0.35345323083317454\n",
      "   - Para el Cluster  1  su silueta vale :  0.30004208861569454\n",
      "   - Para el Cluster  2  su silueta vale :  0.0\n",
      "   - Para el Cluster  3  su silueta vale :  0.5664789734180768\n",
      "   - Para el Cluster  4  su silueta vale :  0.6152265411044983\n",
      "   - Para el Cluster  5  su silueta vale :  0.0\n",
      "   - Para el Cluster  6  su silueta vale :  0.32882042637679976\n",
      "   - Para el Cluster  7  su silueta vale :  0.3028895866899326\n",
      "   - Para el Cluster  8  su silueta vale :  0.0\n",
      "* Para el numero de clusters =  9  el promedio de las siluetas es de : 0.39932610787930767\n",
      "   - Para el Cluster  1  su silueta vale :  0.14644660940672627\n",
      "   - Para el Cluster  2  su silueta vale :  0.32882042637679976\n",
      "   - Para el Cluster  3  su silueta vale :  0.6152265411044983\n",
      "   - Para el Cluster  4  su silueta vale :  1.0\n",
      "   - Para el Cluster  5  su silueta vale :  0.5664789734180768\n",
      "   - Para el Cluster  6  su silueta vale :  0.14644660940672627\n",
      "   - Para el Cluster  7  su silueta vale :  0.0\n",
      "   - Para el Cluster  8  su silueta vale :  0.0\n",
      "   - Para el Cluster  9  su silueta vale :  0.0\n"
     ]
    }
   ],
   "source": [
    "max_clust=10\n",
    "clusters=range(2,max_clust)#importante crear mas de 2 clusters para el metodo de silueta y codo\n",
    "\n",
    "for k in clusters:\n",
    "    kmean_model=KMeans(n_clusters=k).fit(data)\n",
    "    labels=kmean_model.labels_\n",
    "    \n",
    "    if 1<k<len(data): #Por seguridad no se crean siluetas con clusters menores a 2 y mayores a len(data)\n",
    "        \n",
    "        silhouette_avg = silhouette_score(data, labels)\n",
    "        print(\"* Para el numero de clusters = \",k, \" el promedio de las siluetas es de :\",silhouette_avg)\n",
    "\n",
    "        sample_silhouette_values = silhouette_samples(data, labels) #valores de cada silueta\n",
    "          \n",
    "        for i in range(k):\n",
    "            ith_cluster_sv = sample_silhouette_values[labels == i]\n",
    "            print(\"   - Para el Cluster \", i+1, \" su silueta vale : \", np.mean(ith_cluster_sv))\n"
   ]
  }
 ],
 "metadata": {
  "kernelspec": {
   "display_name": "Python 3",
   "language": "python",
   "name": "python3"
  },
  "language_info": {
   "codemirror_mode": {
    "name": "ipython",
    "version": 3
   },
   "file_extension": ".py",
   "mimetype": "text/x-python",
   "name": "python",
   "nbconvert_exporter": "python",
   "pygments_lexer": "ipython3",
   "version": "3.7.0"
  }
 },
 "nbformat": 4,
 "nbformat_minor": 2
}
