{
 "cells": [
  {
   "cell_type": "markdown",
   "metadata": {},
   "source": [
    "# Metodo 1: Distribucion normal"
   ]
  },
  {
   "cell_type": "code",
   "execution_count": 96,
   "metadata": {},
   "outputs": [],
   "source": [
    "import pandas as pd\n",
    "import numpy as np\n",
    "import matplotlib.pyplot as plt\n",
    "\n",
    "path='../python-ml-course/datasets/'\n",
    "\n",
    "dataset=pd.read_csv(path+'customer-churn-model/Customer Churn Model.txt')\n"
   ]
  },
  {
   "cell_type": "code",
   "execution_count": 29,
   "metadata": {},
   "outputs": [
    {
     "data": {
      "text/plain": [
       "(array([  7.,  39., 182., 505., 916., 876., 539., 213.,  44.,  12.]),\n",
       " array([-3.65811822, -2.93180212, -2.20548601, -1.47916991, -0.7528538 ,\n",
       "        -0.0265377 ,  0.6997784 ,  1.42609451,  2.15241061,  2.87872671,\n",
       "         3.60504282]),\n",
       " <a list of 10 Patch objects>)"
      ]
     },
     "execution_count": 29,
     "metadata": {},
     "output_type": "execute_result"
    },
    {
     "data": {
      "image/png": "[encoded data removed]",
      "text/plain": [
       "<Figure size 432x288 with 1 Axes>"
      ]
     },
     "metadata": {
      "needs_background": "light"
     },
     "output_type": "display_data"
    }
   ],
   "source": [
    "a=np.random.randn(len(dataset))\n",
    "\n",
    "plt.hist(a)"
   ]
  },
  {
   "cell_type": "code",
   "execution_count": 97,
   "metadata": {
    "scrolled": true
   },
   "outputs": [
    {
     "data": {
      "text/plain": [
       "(array([ 717.,    0.,    0.,    0.,    0.,    0.,    0.,    0.,    0.,\n",
       "        2616.]),\n",
       " array([0. , 0.1, 0.2, 0.3, 0.4, 0.5, 0.6, 0.7, 0.8, 0.9, 1. ]),\n",
       " <a list of 10 Patch objects>)"
      ]
     },
     "execution_count": 97,
     "metadata": {},
     "output_type": "execute_result"
    },
    {
     "data": {
      "image/png": "[encoded data removed]",
      "text/plain": [
       "<Figure size 432x288 with 1 Axes>"
      ]
     },
     "metadata": {
      "needs_background": "light"
     },
     "output_type": "display_data"
    }
   ],
   "source": [
    "check=(a<.80)\n",
    "plt.hist(check,bins=[0,.1,.2,.3,.4,.5,.6,.7,.8,.9,1])"
   ]
  },
  {
   "cell_type": "code",
   "execution_count": 98,
   "metadata": {},
   "outputs": [
    {
     "name": "stdout",
     "output_type": "stream",
     "text": [
      "Trainning: 78 %\n",
      "Testing: 22 %\n"
     ]
    }
   ],
   "source": [
    "data_trainning=dataset[check]\n",
    "data_testing=dataset[~check]\n",
    "print('Trainning: '+str(round(len(data_trainning)/len(dataset)*100))+' %')\n",
    "print('Testing: '+str(round(len(data_testing)/len(dataset)*100))+' %')"
   ]
  },
  {
   "cell_type": "markdown",
   "metadata": {},
   "source": [
    "# Metodo 2: Shuffle de Dataset"
   ]
  },
  {
   "cell_type": "code",
   "execution_count": 102,
   "metadata": {},
   "outputs": [],
   "source": [
    "import sklearn as sk"
   ]
  },
  {
   "cell_type": "code",
   "execution_count": 104,
   "metadata": {},
   "outputs": [
    {
     "data": {
      "text/html": [
       "<div>\n",
       "<style scoped>\n",
       "    .dataframe tbody tr th:only-of-type {\n",
       "        vertical-align: middle;\n",
       "    }\n",
       "\n",
       "    .dataframe tbody tr th {\n",
       "        vertical-align: top;\n",
       "    }\n",
       "\n",
       "    .dataframe thead th {\n",
       "        text-align: right;\n",
       "    }\n",
       "</style>\n",
       "<table border=\"1\" class=\"dataframe\">\n",
       "  <thead>\n",
       "    <tr style=\"text-align: right;\">\n",
       "      <th></th>\n",
       "      <th>State</th>\n",
       "      <th>Account Length</th>\n",
       "      <th>Area Code</th>\n",
       "      <th>Phone</th>\n",
       "      <th>Int'l Plan</th>\n",
       "      <th>VMail Plan</th>\n",
       "      <th>VMail Message</th>\n",
       "      <th>Day Mins</th>\n",
       "      <th>Day Calls</th>\n",
       "      <th>Day Charge</th>\n",
       "      <th>...</th>\n",
       "      <th>Eve Calls</th>\n",
       "      <th>Eve Charge</th>\n",
       "      <th>Night Mins</th>\n",
       "      <th>Night Calls</th>\n",
       "      <th>Night Charge</th>\n",
       "      <th>Intl Mins</th>\n",
       "      <th>Intl Calls</th>\n",
       "      <th>Intl Charge</th>\n",
       "      <th>CustServ Calls</th>\n",
       "      <th>Churn?</th>\n",
       "    </tr>\n",
       "  </thead>\n",
       "  <tbody>\n",
       "    <tr>\n",
       "      <th>379</th>\n",
       "      <td>KS</td>\n",
       "      <td>127</td>\n",
       "      <td>415</td>\n",
       "      <td>345-2931</td>\n",
       "      <td>no</td>\n",
       "      <td>no</td>\n",
       "      <td>0</td>\n",
       "      <td>221.0</td>\n",
       "      <td>100</td>\n",
       "      <td>37.57</td>\n",
       "      <td>...</td>\n",
       "      <td>113</td>\n",
       "      <td>13.66</td>\n",
       "      <td>233.1</td>\n",
       "      <td>96</td>\n",
       "      <td>10.49</td>\n",
       "      <td>6.8</td>\n",
       "      <td>4</td>\n",
       "      <td>1.84</td>\n",
       "      <td>2</td>\n",
       "      <td>False.</td>\n",
       "    </tr>\n",
       "    <tr>\n",
       "      <th>2099</th>\n",
       "      <td>MA</td>\n",
       "      <td>71</td>\n",
       "      <td>510</td>\n",
       "      <td>419-5171</td>\n",
       "      <td>no</td>\n",
       "      <td>no</td>\n",
       "      <td>0</td>\n",
       "      <td>290.4</td>\n",
       "      <td>108</td>\n",
       "      <td>49.37</td>\n",
       "      <td>...</td>\n",
       "      <td>92</td>\n",
       "      <td>21.58</td>\n",
       "      <td>263.3</td>\n",
       "      <td>126</td>\n",
       "      <td>11.85</td>\n",
       "      <td>10.1</td>\n",
       "      <td>5</td>\n",
       "      <td>2.73</td>\n",
       "      <td>3</td>\n",
       "      <td>True.</td>\n",
       "    </tr>\n",
       "    <tr>\n",
       "      <th>388</th>\n",
       "      <td>WI</td>\n",
       "      <td>85</td>\n",
       "      <td>415</td>\n",
       "      <td>360-4320</td>\n",
       "      <td>no</td>\n",
       "      <td>no</td>\n",
       "      <td>0</td>\n",
       "      <td>102.0</td>\n",
       "      <td>95</td>\n",
       "      <td>17.34</td>\n",
       "      <td>...</td>\n",
       "      <td>139</td>\n",
       "      <td>22.97</td>\n",
       "      <td>148.2</td>\n",
       "      <td>105</td>\n",
       "      <td>6.67</td>\n",
       "      <td>10.7</td>\n",
       "      <td>3</td>\n",
       "      <td>2.89</td>\n",
       "      <td>1</td>\n",
       "      <td>False.</td>\n",
       "    </tr>\n",
       "    <tr>\n",
       "      <th>1634</th>\n",
       "      <td>MO</td>\n",
       "      <td>72</td>\n",
       "      <td>415</td>\n",
       "      <td>385-2564</td>\n",
       "      <td>no</td>\n",
       "      <td>no</td>\n",
       "      <td>0</td>\n",
       "      <td>165.9</td>\n",
       "      <td>114</td>\n",
       "      <td>28.20</td>\n",
       "      <td>...</td>\n",
       "      <td>97</td>\n",
       "      <td>20.05</td>\n",
       "      <td>210.1</td>\n",
       "      <td>120</td>\n",
       "      <td>9.45</td>\n",
       "      <td>12.0</td>\n",
       "      <td>5</td>\n",
       "      <td>3.24</td>\n",
       "      <td>2</td>\n",
       "      <td>False.</td>\n",
       "    </tr>\n",
       "    <tr>\n",
       "      <th>465</th>\n",
       "      <td>NV</td>\n",
       "      <td>71</td>\n",
       "      <td>415</td>\n",
       "      <td>352-8327</td>\n",
       "      <td>yes</td>\n",
       "      <td>no</td>\n",
       "      <td>0</td>\n",
       "      <td>178.2</td>\n",
       "      <td>113</td>\n",
       "      <td>30.29</td>\n",
       "      <td>...</td>\n",
       "      <td>94</td>\n",
       "      <td>14.26</td>\n",
       "      <td>182.1</td>\n",
       "      <td>111</td>\n",
       "      <td>8.19</td>\n",
       "      <td>13.6</td>\n",
       "      <td>3</td>\n",
       "      <td>3.67</td>\n",
       "      <td>3</td>\n",
       "      <td>True.</td>\n",
       "    </tr>\n",
       "  </tbody>\n",
       "</table>\n",
       "<p>5 rows × 21 columns</p>\n",
       "</div>"
      ],
      "text/plain": [
       "     State  Account Length  Area Code     Phone Int'l Plan VMail Plan  \\\n",
       "379     KS             127        415  345-2931         no         no   \n",
       "2099    MA              71        510  419-5171         no         no   \n",
       "388     WI              85        415  360-4320         no         no   \n",
       "1634    MO              72        415  385-2564         no         no   \n",
       "465     NV              71        415  352-8327        yes         no   \n",
       "\n",
       "      VMail Message  Day Mins  Day Calls  Day Charge   ...    Eve Calls  \\\n",
       "379               0     221.0        100       37.57   ...          113   \n",
       "2099              0     290.4        108       49.37   ...           92   \n",
       "388               0     102.0         95       17.34   ...          139   \n",
       "1634              0     165.9        114       28.20   ...           97   \n",
       "465               0     178.2        113       30.29   ...           94   \n",
       "\n",
       "      Eve Charge  Night Mins  Night Calls  Night Charge  Intl Mins  \\\n",
       "379        13.66       233.1           96         10.49        6.8   \n",
       "2099       21.58       263.3          126         11.85       10.1   \n",
       "388        22.97       148.2          105          6.67       10.7   \n",
       "1634       20.05       210.1          120          9.45       12.0   \n",
       "465        14.26       182.1          111          8.19       13.6   \n",
       "\n",
       "      Intl Calls  Intl Charge  CustServ Calls  Churn?  \n",
       "379            4         1.84               2  False.  \n",
       "2099           5         2.73               3   True.  \n",
       "388            3         2.89               1  False.  \n",
       "1634           5         3.24               2  False.  \n",
       "465            3         3.67               3   True.  \n",
       "\n",
       "[5 rows x 21 columns]"
      ]
     },
     "execution_count": 104,
     "metadata": {},
     "output_type": "execute_result"
    }
   ],
   "source": [
    "dataset2=sk.utils.shuffle(dataset)\n",
    "dataset2.head()"
   ]
  },
  {
   "cell_type": "code",
   "execution_count": 110,
   "metadata": {},
   "outputs": [
    {
     "name": "stdout",
     "output_type": "stream",
     "text": [
      "Train: 75 %\n",
      "Test: 25 %\n"
     ]
    }
   ],
   "source": [
    "data_train=dataset2[:round(.75*len(dataset2))]\n",
    "\n",
    "data_test=dataset2[round(.75*len(dataset2))+1:]\n",
    "\n",
    "print('Train: '+str(round(len(data_train)/len(dataset2)*100))+' %')\n",
    "print('Test: '+str(round(len(data_test)/len(dataset2)*100))+' %')"
   ]
  },
  {
   "cell_type": "markdown",
   "metadata": {},
   "source": [
    "# Metodo 3: Usar libreria de Sklearn"
   ]
  },
  {
   "cell_type": "code",
   "execution_count": 112,
   "metadata": {},
   "outputs": [],
   "source": [
    "from sklearn.cross_validation import train_test_split"
   ]
  },
  {
   "cell_type": "code",
   "execution_count": 114,
   "metadata": {},
   "outputs": [
    {
     "name": "stdout",
     "output_type": "stream",
     "text": [
      "Train: 80 %\n",
      "Test: 20 %\n"
     ]
    }
   ],
   "source": [
    "train,test=train_test_split(dataset,test_size=.2)\n",
    "\n",
    "print('Train: '+str(round(len(train)/len(dataset)*100))+' %')\n",
    "print('Test: '+str(round(len(test)/len(dataset)*100))+' %')"
   ]
  }
 ],
 "metadata": {
  "kernelspec": {
   "display_name": "Python 3",
   "language": "python",
   "name": "python3"
  },
  "language_info": {
   "codemirror_mode": {
    "name": "ipython",
    "version": 3
   },
   "file_extension": ".py",
   "mimetype": "text/x-python",
   "name": "python",
   "nbconvert_exporter": "python",
   "pygments_lexer": "ipython3",
   "version": "3.7.0"
  }
 },
 "nbformat": 4,
 "nbformat_minor": 2
}
