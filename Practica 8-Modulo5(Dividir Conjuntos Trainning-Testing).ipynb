{
 "cells": [
  {
   "cell_type": "markdown",
   "metadata": {},
   "source": [
    "# Metodo 1: Distribucion normal"
   ]
  },
  {
   "cell_type": "code",
   "execution_count": 2,
   "metadata": {},
   "outputs": [],
   "source": [
    "import pandas as pd\n",
    "import numpy as np\n",
    "import matplotlib.pyplot as plt\n",
    "\n",
    "path='../python-ml-course/datasets/'\n",
    "\n",
    "dataset=pd.read_csv(path+'customer-churn-model/Customer Churn Model.txt')\n"
   ]
  },
  {
   "cell_type": "code",
   "execution_count": 3,
   "metadata": {},
   "outputs": [
    {
     "data": {
      "text/plain": [
       "(array([  4.,  28., 155., 485., 851., 940., 608., 213.,  43.,   6.]),\n",
       " array([-3.8370593 , -3.08535854, -2.33365778, -1.58195702, -0.83025626,\n",
       "        -0.0785555 ,  0.67314526,  1.42484602,  2.17654678,  2.92824754,\n",
       "         3.6799483 ]),\n",
       " <a list of 10 Patch objects>)"
      ]
     },
     "execution_count": 3,
     "metadata": {},
     "output_type": "execute_result"
    },
    {
     "data": {
      "image/png": "[encoded data removed]",
      "text/plain": [
       "<Figure size 432x288 with 1 Axes>"
      ]
     },
     "metadata": {
      "needs_background": "light"
     },
     "output_type": "display_data"
    }
   ],
   "source": [
    "a=np.random.randn(len(dataset))\n",
    "\n",
    "plt.hist(a)"
   ]
  },
  {
   "cell_type": "code",
   "execution_count": 4,
   "metadata": {
    "scrolled": true
   },
   "outputs": [
    {
     "data": {
      "text/plain": [
       "(array([ 742.,    0.,    0.,    0.,    0.,    0.,    0.,    0.,    0.,\n",
       "        2591.]),\n",
       " array([0. , 0.1, 0.2, 0.3, 0.4, 0.5, 0.6, 0.7, 0.8, 0.9, 1. ]),\n",
       " <a list of 10 Patch objects>)"
      ]
     },
     "execution_count": 4,
     "metadata": {},
     "output_type": "execute_result"
    },
    {
     "data": {
      "image/png": "[encoded data removed]",
      "text/plain": [
       "<Figure size 432x288 with 1 Axes>"
      ]
     },
     "metadata": {
      "needs_background": "light"
     },
     "output_type": "display_data"
    }
   ],
   "source": [
    "check=(a<.80)\n",
    "plt.hist(check,bins=[0,.1,.2,.3,.4,.5,.6,.7,.8,.9,1])"
   ]
  },
  {
   "cell_type": "code",
   "execution_count": 5,
   "metadata": {},
   "outputs": [
    {
     "name": "stdout",
     "output_type": "stream",
     "text": [
      "Trainning: 78 %\n",
      "Testing: 22 %\n"
     ]
    }
   ],
   "source": [
    "data_trainning=dataset[check]\n",
    "data_testing=dataset[~check]\n",
    "print('Trainning: '+str(round(len(data_trainning)/len(dataset)*100))+' %')\n",
    "print('Testing: '+str(round(len(data_testing)/len(dataset)*100))+' %')"
   ]
  },
  {
   "cell_type": "markdown",
   "metadata": {},
   "source": [
    "# Metodo 2: Shuffle de Dataset"
   ]
  },
  {
   "cell_type": "code",
   "execution_count": 6,
   "metadata": {},
   "outputs": [],
   "source": [
    "import sklearn as sk"
   ]
  },
  {
   "cell_type": "code",
   "execution_count": 7,
   "metadata": {},
   "outputs": [
    {
     "data": {
      "text/html": [
       "<div>\n",
       "<style scoped>\n",
       "    .dataframe tbody tr th:only-of-type {\n",
       "        vertical-align: middle;\n",
       "    }\n",
       "\n",
       "    .dataframe tbody tr th {\n",
       "        vertical-align: top;\n",
       "    }\n",
       "\n",
       "    .dataframe thead th {\n",
       "        text-align: right;\n",
       "    }\n",
       "</style>\n",
       "<table border=\"1\" class=\"dataframe\">\n",
       "  <thead>\n",
       "    <tr style=\"text-align: right;\">\n",
       "      <th></th>\n",
       "      <th>State</th>\n",
       "      <th>Account Length</th>\n",
       "      <th>Area Code</th>\n",
       "      <th>Phone</th>\n",
       "      <th>Int'l Plan</th>\n",
       "      <th>VMail Plan</th>\n",
       "      <th>VMail Message</th>\n",
       "      <th>Day Mins</th>\n",
       "      <th>Day Calls</th>\n",
       "      <th>Day Charge</th>\n",
       "      <th>...</th>\n",
       "      <th>Eve Calls</th>\n",
       "      <th>Eve Charge</th>\n",
       "      <th>Night Mins</th>\n",
       "      <th>Night Calls</th>\n",
       "      <th>Night Charge</th>\n",
       "      <th>Intl Mins</th>\n",
       "      <th>Intl Calls</th>\n",
       "      <th>Intl Charge</th>\n",
       "      <th>CustServ Calls</th>\n",
       "      <th>Churn?</th>\n",
       "    </tr>\n",
       "  </thead>\n",
       "  <tbody>\n",
       "    <tr>\n",
       "      <th>1350</th>\n",
       "      <td>WA</td>\n",
       "      <td>55</td>\n",
       "      <td>408</td>\n",
       "      <td>357-6039</td>\n",
       "      <td>no</td>\n",
       "      <td>no</td>\n",
       "      <td>0</td>\n",
       "      <td>285.7</td>\n",
       "      <td>124</td>\n",
       "      <td>48.57</td>\n",
       "      <td>...</td>\n",
       "      <td>106</td>\n",
       "      <td>19.63</td>\n",
       "      <td>230.7</td>\n",
       "      <td>140</td>\n",
       "      <td>10.38</td>\n",
       "      <td>14.8</td>\n",
       "      <td>7</td>\n",
       "      <td>4.00</td>\n",
       "      <td>0</td>\n",
       "      <td>True.</td>\n",
       "    </tr>\n",
       "    <tr>\n",
       "      <th>78</th>\n",
       "      <td>MN</td>\n",
       "      <td>46</td>\n",
       "      <td>415</td>\n",
       "      <td>355-8887</td>\n",
       "      <td>no</td>\n",
       "      <td>no</td>\n",
       "      <td>0</td>\n",
       "      <td>214.1</td>\n",
       "      <td>72</td>\n",
       "      <td>36.40</td>\n",
       "      <td>...</td>\n",
       "      <td>104</td>\n",
       "      <td>13.97</td>\n",
       "      <td>177.5</td>\n",
       "      <td>113</td>\n",
       "      <td>7.99</td>\n",
       "      <td>8.2</td>\n",
       "      <td>3</td>\n",
       "      <td>2.21</td>\n",
       "      <td>2</td>\n",
       "      <td>False.</td>\n",
       "    </tr>\n",
       "    <tr>\n",
       "      <th>2551</th>\n",
       "      <td>MD</td>\n",
       "      <td>102</td>\n",
       "      <td>415</td>\n",
       "      <td>386-9774</td>\n",
       "      <td>no</td>\n",
       "      <td>no</td>\n",
       "      <td>0</td>\n",
       "      <td>129.5</td>\n",
       "      <td>56</td>\n",
       "      <td>22.02</td>\n",
       "      <td>...</td>\n",
       "      <td>118</td>\n",
       "      <td>30.11</td>\n",
       "      <td>145.5</td>\n",
       "      <td>93</td>\n",
       "      <td>6.55</td>\n",
       "      <td>10.9</td>\n",
       "      <td>3</td>\n",
       "      <td>2.94</td>\n",
       "      <td>1</td>\n",
       "      <td>False.</td>\n",
       "    </tr>\n",
       "    <tr>\n",
       "      <th>175</th>\n",
       "      <td>NE</td>\n",
       "      <td>94</td>\n",
       "      <td>415</td>\n",
       "      <td>377-1765</td>\n",
       "      <td>no</td>\n",
       "      <td>no</td>\n",
       "      <td>0</td>\n",
       "      <td>252.6</td>\n",
       "      <td>104</td>\n",
       "      <td>42.94</td>\n",
       "      <td>...</td>\n",
       "      <td>125</td>\n",
       "      <td>14.37</td>\n",
       "      <td>170.9</td>\n",
       "      <td>106</td>\n",
       "      <td>7.69</td>\n",
       "      <td>11.1</td>\n",
       "      <td>7</td>\n",
       "      <td>3.00</td>\n",
       "      <td>2</td>\n",
       "      <td>False.</td>\n",
       "    </tr>\n",
       "    <tr>\n",
       "      <th>434</th>\n",
       "      <td>PA</td>\n",
       "      <td>61</td>\n",
       "      <td>408</td>\n",
       "      <td>383-8848</td>\n",
       "      <td>no</td>\n",
       "      <td>yes</td>\n",
       "      <td>31</td>\n",
       "      <td>288.7</td>\n",
       "      <td>101</td>\n",
       "      <td>49.08</td>\n",
       "      <td>...</td>\n",
       "      <td>102</td>\n",
       "      <td>17.32</td>\n",
       "      <td>203.2</td>\n",
       "      <td>49</td>\n",
       "      <td>9.14</td>\n",
       "      <td>8.6</td>\n",
       "      <td>3</td>\n",
       "      <td>2.32</td>\n",
       "      <td>0</td>\n",
       "      <td>False.</td>\n",
       "    </tr>\n",
       "  </tbody>\n",
       "</table>\n",
       "<p>5 rows × 21 columns</p>\n",
       "</div>"
      ],
      "text/plain": [
       "     State  Account Length  Area Code     Phone Int'l Plan VMail Plan  \\\n",
       "1350    WA              55        408  357-6039         no         no   \n",
       "78      MN              46        415  355-8887         no         no   \n",
       "2551    MD             102        415  386-9774         no         no   \n",
       "175     NE              94        415  377-1765         no         no   \n",
       "434     PA              61        408  383-8848         no        yes   \n",
       "\n",
       "      VMail Message  Day Mins  Day Calls  Day Charge   ...    Eve Calls  \\\n",
       "1350              0     285.7        124       48.57   ...          106   \n",
       "78                0     214.1         72       36.40   ...          104   \n",
       "2551              0     129.5         56       22.02   ...          118   \n",
       "175               0     252.6        104       42.94   ...          125   \n",
       "434              31     288.7        101       49.08   ...          102   \n",
       "\n",
       "      Eve Charge  Night Mins  Night Calls  Night Charge  Intl Mins  \\\n",
       "1350       19.63       230.7          140         10.38       14.8   \n",
       "78         13.97       177.5          113          7.99        8.2   \n",
       "2551       30.11       145.5           93          6.55       10.9   \n",
       "175        14.37       170.9          106          7.69       11.1   \n",
       "434        17.32       203.2           49          9.14        8.6   \n",
       "\n",
       "      Intl Calls  Intl Charge  CustServ Calls  Churn?  \n",
       "1350           7         4.00               0   True.  \n",
       "78             3         2.21               2  False.  \n",
       "2551           3         2.94               1  False.  \n",
       "175            7         3.00               2  False.  \n",
       "434            3         2.32               0  False.  \n",
       "\n",
       "[5 rows x 21 columns]"
      ]
     },
     "execution_count": 7,
     "metadata": {},
     "output_type": "execute_result"
    }
   ],
   "source": [
    "dataset2=sk.utils.shuffle(dataset)\n",
    "dataset2.head()"
   ]
  },
  {
   "cell_type": "code",
   "execution_count": 8,
   "metadata": {},
   "outputs": [
    {
     "name": "stdout",
     "output_type": "stream",
     "text": [
      "Train: 75 %\n",
      "Test: 25 %\n"
     ]
    }
   ],
   "source": [
    "data_train=dataset2[:round(.75*len(dataset2))]\n",
    "\n",
    "data_test=dataset2[round(.75*len(dataset2))+1:]\n",
    "\n",
    "print('Train: '+str(round(len(data_train)/len(dataset2)*100))+' %')\n",
    "print('Test: '+str(round(len(data_test)/len(dataset2)*100))+' %')"
   ]
  },
  {
   "cell_type": "markdown",
   "metadata": {},
   "source": [
    "# Metodo 3: Usar libreria de Sklearn"
   ]
  },
  {
   "cell_type": "code",
   "execution_count": 9,
   "metadata": {},
   "outputs": [
    {
     "name": "stderr",
     "output_type": "stream",
     "text": [
      "/home/jess/anaconda3/lib/python3.7/site-packages/sklearn/cross_validation.py:41: DeprecationWarning: This module was deprecated in version 0.18 in favor of the model_selection module into which all the refactored classes and functions are moved. Also note that the interface of the new CV iterators are different from that of this module. This module will be removed in 0.20.\n",
      "  \"This module will be removed in 0.20.\", DeprecationWarning)\n"
     ]
    }
   ],
   "source": [
    "from sklearn.cross_validation import train_test_split"
   ]
  },
  {
   "cell_type": "code",
   "execution_count": 10,
   "metadata": {},
   "outputs": [
    {
     "name": "stdout",
     "output_type": "stream",
     "text": [
      "Train: 80 %\n",
      "Test: 20 %\n"
     ]
    }
   ],
   "source": [
    "train,test=train_test_split(dataset,test_size=.2)\n",
    "\n",
    "print('Train: '+str(round(len(train)/len(dataset)*100))+' %')\n",
    "print('Test: '+str(round(len(test)/len(dataset)*100))+' %')"
   ]
  }
 ],
 "metadata": {
  "kernelspec": {
   "display_name": "Python 3",
   "language": "python",
   "name": "python3"
  },
  "language_info": {
   "codemirror_mode": {
    "name": "ipython",
    "version": 3
   },
   "file_extension": ".py",
   "mimetype": "text/x-python",
   "name": "python",
   "nbconvert_exporter": "python",
   "pygments_lexer": "ipython3",
   "version": "3.7.0"
  }
 },
 "nbformat": 4,
 "nbformat_minor": 2
}
