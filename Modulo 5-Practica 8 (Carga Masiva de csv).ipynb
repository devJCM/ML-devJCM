{
 "cells": [
  {
   "cell_type": "code",
   "execution_count": 14,
   "metadata": {},
   "outputs": [],
   "source": [
    "import pandas as pd\n",
    "path='../python-ml-course/datasets/'"
   ]
  },
  {
   "cell_type": "code",
   "execution_count": 64,
   "metadata": {},
   "outputs": [
    {
     "data": {
      "text/plain": [
       "(1461, 4)"
      ]
     },
     "execution_count": 64,
     "metadata": {},
     "output_type": "execute_result"
    }
   ],
   "source": [
    "data=pd.read_csv(path+'distributed-data/001.csv')\n",
    "data.shape"
   ]
  },
  {
   "cell_type": "code",
   "execution_count": 66,
   "metadata": {},
   "outputs": [
    {
     "data": {
      "text/html": [
       "<div>\n",
       "<style scoped>\n",
       "    .dataframe tbody tr th:only-of-type {\n",
       "        vertical-align: middle;\n",
       "    }\n",
       "\n",
       "    .dataframe tbody tr th {\n",
       "        vertical-align: top;\n",
       "    }\n",
       "\n",
       "    .dataframe thead th {\n",
       "        text-align: right;\n",
       "    }\n",
       "</style>\n",
       "<table border=\"1\" class=\"dataframe\">\n",
       "  <thead>\n",
       "    <tr style=\"text-align: right;\">\n",
       "      <th></th>\n",
       "      <th>Date</th>\n",
       "      <th>sulfate</th>\n",
       "      <th>nitrate</th>\n",
       "      <th>ID</th>\n",
       "    </tr>\n",
       "  </thead>\n",
       "  <tbody>\n",
       "    <tr>\n",
       "      <th>726</th>\n",
       "      <td>2004-12-27</td>\n",
       "      <td>NA</td>\n",
       "      <td>NA</td>\n",
       "      <td>332</td>\n",
       "    </tr>\n",
       "    <tr>\n",
       "      <th>727</th>\n",
       "      <td>2004-12-28</td>\n",
       "      <td>NA</td>\n",
       "      <td>NA</td>\n",
       "      <td>332</td>\n",
       "    </tr>\n",
       "    <tr>\n",
       "      <th>728</th>\n",
       "      <td>2004-12-29</td>\n",
       "      <td>NA</td>\n",
       "      <td>NA</td>\n",
       "      <td>332</td>\n",
       "    </tr>\n",
       "    <tr>\n",
       "      <th>729</th>\n",
       "      <td>2004-12-30</td>\n",
       "      <td>NA</td>\n",
       "      <td>NA</td>\n",
       "      <td>332</td>\n",
       "    </tr>\n",
       "    <tr>\n",
       "      <th>730</th>\n",
       "      <td>2004-12-31</td>\n",
       "      <td>NA</td>\n",
       "      <td>NA</td>\n",
       "      <td>332</td>\n",
       "    </tr>\n",
       "  </tbody>\n",
       "</table>\n",
       "</div>"
      ],
      "text/plain": [
       "           Date sulfate nitrate   ID\n",
       "726  2004-12-27      NA      NA  332\n",
       "727  2004-12-28      NA      NA  332\n",
       "728  2004-12-29      NA      NA  332\n",
       "729  2004-12-30      NA      NA  332\n",
       "730  2004-12-31      NA      NA  332"
      ]
     },
     "execution_count": 66,
     "metadata": {},
     "output_type": "execute_result"
    }
   ],
   "source": [
    "for i in range(1,333):\n",
    "    if(i<10):\n",
    "        name_file='00'+str(i)\n",
    "    elif(i<100):\n",
    "        name_file='0'+str(i)\n",
    "    else:\n",
    "        name_file=str(i)\n",
    "        \n",
    "    temp_data=open(path+'distributed-data/'+name_file+'.csv')\n",
    "    columns_name=temp_data.readline().strip().split(\",\")\n",
    "\n",
    "    dummy_dataset={}\n",
    "\n",
    "    cont=0\n",
    "    for cn in columns_name:\n",
    "        colum_name=cn.strip('\"')       #Ajuste porque los encabezados tenian comillas\n",
    "        columns_name[cont]=colum_name \n",
    "        dummy_dataset[colum_name]=[]   # dummy_dataset[cn]\n",
    "        cont=cont+1                   \n",
    " \n",
    "        \n",
    "    for row in temp_data:\n",
    "        row_data=row.strip().split(\",\")\n",
    "        for column in range(len(columns_name)):\n",
    "            if(column==0):\n",
    "                dummy_dataset[columns_name[column]].append(row_data[column].strip('\"')) #Ajuste porque los encabezados tenian comillas\n",
    "            else:\n",
    "                dummy_dataset[columns_name[column]].append(row_data[column])\n",
    "    temp_dataset=pd.DataFrame(dummy_dataset)\n",
    "            \n",
    "        \n",
    "    data=pd.concat([data,temp_dataset],axis=0) \n",
    "\n",
    "data.shape\n",
    "data.tail()\n"
   ]
  }
 ],
 "metadata": {
  "kernelspec": {
   "display_name": "Python 3",
   "language": "python",
   "name": "python3"
  },
  "language_info": {
   "codemirror_mode": {
    "name": "ipython",
    "version": 3
   },
   "file_extension": ".py",
   "mimetype": "text/x-python",
   "name": "python",
   "nbconvert_exporter": "python",
   "pygments_lexer": "ipython3",
   "version": "3.7.0"
  }
 },
 "nbformat": 4,
 "nbformat_minor": 2
}
