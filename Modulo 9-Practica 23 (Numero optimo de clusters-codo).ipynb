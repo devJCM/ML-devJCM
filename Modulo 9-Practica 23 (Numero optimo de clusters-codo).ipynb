{
 "cells": [
  {
   "cell_type": "code",
   "execution_count": 2,
   "metadata": {},
   "outputs": [],
   "source": [
    "import numpy as np \n",
    "import matplotlib.pyplot as plt\n",
    "\n",
    "from sklearn.cluster import KMeans\n",
    "from scipy.spatial.distance import cdist"
   ]
  },
  {
   "cell_type": "markdown",
   "metadata": {},
   "source": [
    "### Creación y Analisis de Datos"
   ]
  },
  {
   "cell_type": "code",
   "execution_count": 3,
   "metadata": {},
   "outputs": [
    {
     "data": {
      "text/plain": [
       "(17, 2)"
      ]
     },
     "execution_count": 3,
     "metadata": {},
     "output_type": "execute_result"
    }
   ],
   "source": [
    "x1 = np.array([3,1,1,2,1,6,6,6,5,6,7,8,9,8,9,9,8])\n",
    "x2 = np.array([5,4,5,6,5,8,6,7,6,7,1,2,1,2,3,2,3])\n",
    "data=np.array(list(zip(x1,x2))).reshape(len(x1),2) #reshape(#filas,#columnas)\n",
    "data.shape"
   ]
  },
  {
   "cell_type": "code",
   "execution_count": 4,
   "metadata": {},
   "outputs": [
    {
     "data": {
      "text/plain": [
       "Text(0,0.5,'y')"
      ]
     },
     "execution_count": 4,
     "metadata": {},
     "output_type": "execute_result"
    },
    {
     "data": {
      "image/png": "[encoded data removed]",
      "text/plain": [
       "<Figure size 432x288 with 1 Axes>"
      ]
     },
     "metadata": {
      "needs_background": "light"
     },
     "output_type": "display_data"
    }
   ],
   "source": [
    "plt.scatter(x1,x2)\n",
    "plt.title(\"Dataset a clasificar\")\n",
    "plt.xlabel(\"x\")\n",
    "plt.ylabel(\"y\")"
   ]
  },
  {
   "cell_type": "markdown",
   "metadata": {},
   "source": [
    "### Obtencion del numero optimo de clusters"
   ]
  },
  {
   "cell_type": "code",
   "execution_count": 13,
   "metadata": {},
   "outputs": [
    {
     "name": "stdout",
     "output_type": "stream",
     "text": [
      "Numero optimo de clusters: 3\n"
     ]
    }
   ],
   "source": [
    "max_clust=len(data)\n",
    "clusters=range(2,max_clust)#importante crear mas de 2 clusters para el metodo de silueta y codo\n",
    "ssw=[] #suma de los cuadrados internos\n",
    "\n",
    "for k in clusters:\n",
    "    kmean_model=KMeans(n_clusters=k).fit(data)\n",
    "    \n",
    "    ssw_k=sum(np.min(cdist(data,kmean_model.cluster_centers_,'euclidean'),axis=1))\n",
    "    ssw.append(ssw_k)\n",
    "    \n",
    "ssw2=np.diff(ssw) \n",
    "ssw2=[abs(num) for num in ssw2]\n",
    "\n",
    "max=0\n",
    "\n",
    "for index_i,i in enumerate(ssw2):\n",
    "    if(i>max):\n",
    "        max=i\n",
    "        idx=index_i\n",
    "    for index_j,j in enumerate(ssw2):\n",
    "        if(j>max):\n",
    "            max=j\n",
    "            idx=index_j          \n",
    "print('Numero optimo de clusters: '+str(clusters[idx+1]))"
   ]
  },
  {
   "cell_type": "markdown",
   "metadata": {},
   "source": [
    "### Representacion del codo"
   ]
  },
  {
   "cell_type": "code",
   "execution_count": 6,
   "metadata": {
    "scrolled": true
   },
   "outputs": [
    {
     "data": {
      "image/png": "[encoded data removed]",
      "text/plain": [
       "<Figure size 432x288 with 1 Axes>"
      ]
     },
     "metadata": {
      "needs_background": "light"
     },
     "output_type": "display_data"
    }
   ],
   "source": [
    "plt.plot(clusters, ssw, \"bx-\")\n",
    "plt.xlabel(\"Clusters\")\n",
    "plt.ylabel(\"SSw(clusters)\")\n",
    "plt.title(\"La técnica del codo para encontrar el k óptimo\")\n",
    "plt.show()"
   ]
  },
  {
   "cell_type": "markdown",
   "metadata": {},
   "source": [
    "## Comprobacion con Scipy"
   ]
  },
  {
   "cell_type": "code",
   "execution_count": 7,
   "metadata": {},
   "outputs": [],
   "source": [
    "from scipy.cluster.hierarchy import linkage,dendrogram\n",
    "from scipy.cluster.hierarchy import fcluster"
   ]
  },
  {
   "cell_type": "code",
   "execution_count": 8,
   "metadata": {},
   "outputs": [
    {
     "name": "stdout",
     "output_type": "stream",
     "text": [
      "Numero de clusters optimos: 3\n"
     ]
    }
   ],
   "source": [
    "z=linkage(data,'ward')\n",
    "z2=z[:,2] #se obtienen todas las distancias de los clusters calculados\n",
    "\n",
    "def max_diff(dist_clusters):\n",
    "    diff_clusters=np.diff(dist_clusters)\n",
    "    max=0\n",
    "    for index_i,i in enumerate(diff_clusters):\n",
    "        if(i>max):\n",
    "            max=i\n",
    "            idx=index_i\n",
    "        for index_j,j in enumerate(diff_clusters):\n",
    "            if(j>max):\n",
    "                max=j\n",
    "                idx=index_j          \n",
    "    return (dist_clusters[idx])\n",
    "\n",
    "max_d=round(max_diff(z2),2)\n",
    "max_d\n",
    "clusters=fcluster(z,max_d,criterion='distance')\n",
    "print('Numero de clusters optimos: '+ str(clusters.max()))"
   ]
  }
 ],
 "metadata": {
  "kernelspec": {
   "display_name": "Python 3",
   "language": "python",
   "name": "python3"
  },
  "language_info": {
   "codemirror_mode": {
    "name": "ipython",
    "version": 3
   },
   "file_extension": ".py",
   "mimetype": "text/x-python",
   "name": "python",
   "nbconvert_exporter": "python",
   "pygments_lexer": "ipython3",
   "version": "3.7.0"
  }
 },
 "nbformat": 4,
 "nbformat_minor": 2
}
